{
 "cells": [
  {
   "cell_type": "markdown",
   "metadata": {},
   "source": [
    "CAUTION!\n",
    "\n",
    "- Please enter the appropriate absolute path to the code still under development"
   ]
  },
  {
   "cell_type": "markdown",
   "metadata": {},
   "source": [
    "## 01. makking dataframing using nifti files header or etc"
   ]
  },
  {
   "cell_type": "markdown",
   "metadata": {},
   "source": [
    "- As a project in development, we do not provide installation files. Keep the current repository folder tree structure and place the nifti files in the data folder. (The depth of the folder does not matter, but if classification is required, the input path needs to be specified)"
   ]
  },
  {
   "cell_type": "code",
   "execution_count": 4,
   "metadata": {},
   "outputs": [],
   "source": [
    "import sys\n",
    "from pathlib import Path\n",
    "sys.path.insert(0, str(Path(r'C:\\Users\\parkm\\Desktop\\github\\analysis_nifti_for_deeplearning\\src\\edanifti.py').resolve().parent.parent))"
   ]
  },
  {
   "cell_type": "code",
   "execution_count": 5,
   "metadata": {},
   "outputs": [],
   "source": [
    "from src.edanifti import *"
   ]
  },
  {
   "cell_type": "code",
   "execution_count": 24,
   "metadata": {},
   "outputs": [],
   "source": [
    "niftieda = NiftiAnalysis()\n",
    "nifit_folder = r'C:\\Users\\parkm\\Desktop\\github\\analysis_nifti_for_deeplearning\\data\\nifti_files_folder'"
   ]
  },
  {
   "cell_type": "code",
   "execution_count": 29,
   "metadata": {},
   "outputs": [],
   "source": [
    "all_nifti_files_under_nifti_folder = niftieda.recursive_find_all_files(nifit_folder, '.nii.gz')"
   ]
  },
  {
   "cell_type": "code",
   "execution_count": 32,
   "metadata": {},
   "outputs": [
    {
     "name": "stdout",
     "output_type": "stream",
     "text": [
      "...summary table saved\n"
     ]
    }
   ],
   "source": [
    "niftieda.save_summary_table(all_nifti_files_under_nifti_folder, './01.nifti_eda_result.csv')\n",
    "\t"
   ]
  },
  {
   "cell_type": "code",
   "execution_count": null,
   "metadata": {},
   "outputs": [],
   "source": []
  }
 ],
 "metadata": {
  "interpreter": {
   "hash": "ad0e9ecde611ae35305dd4ed9aae66f2cfc24eed9b69d21cc1d6de69b29a2e73"
  },
  "kernelspec": {
   "display_name": "Python 3.8.5 ('miccai')",
   "language": "python",
   "name": "python3"
  },
  "language_info": {
   "name": "python",
   "version": "3.8.5"
  },
  "orig_nbformat": 4
 },
 "nbformat": 4,
 "nbformat_minor": 2
}
