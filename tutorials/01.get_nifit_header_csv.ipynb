{
 "cells": [
  {
   "cell_type": "markdown",
   "metadata": {},
   "source": [
    "CAUTION!\n",
    "\n",
    "- Please enter the appropriate absolute path to the code still under development"
   ]
  },
  {
   "cell_type": "markdown",
   "metadata": {},
   "source": [
    "## 01. makking dataframing using nifti files header or etc"
   ]
  },
  {
   "cell_type": "markdown",
   "metadata": {},
   "source": [
    "- As a project in development, we do not provide installation files. Keep the current repository folder tree structure and place the nifti files in the data folder. (The depth of the folder does not matter, but if classification is required, the input path needs to be specified)"
   ]
  },
  {
   "cell_type": "code",
   "execution_count": 7,
   "metadata": {},
   "outputs": [],
   "source": [
    "import sys\n",
    "from pathlib import Path\n",
    "sys.path.insert(0, str(Path(r'C:\\Users\\parkm\\Desktop\\github\\analysis_nifti_for_deeplearning\\src\\eda_nifti.py').resolve().parent.parent))"
   ]
  },
  {
   "cell_type": "code",
   "execution_count": 9,
   "metadata": {},
   "outputs": [],
   "source": [
    "from src.eda_nifti import *"
   ]
  },
  {
   "cell_type": "code",
   "execution_count": 1,
   "metadata": {},
   "outputs": [
    {
     "ename": "NameError",
     "evalue": "name 'NiftiAnalysis' is not defined",
     "output_type": "error",
     "traceback": [
      "\u001b[1;31m---------------------------------------------------------------------------\u001b[0m",
      "\u001b[1;31mNameError\u001b[0m                                 Traceback (most recent call last)",
      "\u001b[1;32mc:\\Users\\parkm\\Desktop\\github\\analysis_nifti_for_deeplearning\\tutorials\\01.get_nifit_header_csv.ipynb Cell 6'\u001b[0m in \u001b[0;36m<cell line: 1>\u001b[1;34m()\u001b[0m\n\u001b[1;32m----> <a href='vscode-notebook-cell:/c%3A/Users/parkm/Desktop/github/analysis_nifti_for_deeplearning/tutorials/01.get_nifit_header_csv.ipynb#ch0000005?line=0'>1</a>\u001b[0m niftieda \u001b[39m=\u001b[39m NiftiAnalysis()\n\u001b[0;32m      <a href='vscode-notebook-cell:/c%3A/Users/parkm/Desktop/github/analysis_nifti_for_deeplearning/tutorials/01.get_nifit_header_csv.ipynb#ch0000005?line=1'>2</a>\u001b[0m nifit_folder \u001b[39m=\u001b[39m \u001b[39mr\u001b[39m\u001b[39m'\u001b[39m\u001b[39mC:\u001b[39m\u001b[39m\\\u001b[39m\u001b[39mUsers\u001b[39m\u001b[39m\\\u001b[39m\u001b[39mparkm\u001b[39m\u001b[39m\\\u001b[39m\u001b[39mDesktop\u001b[39m\u001b[39m\\\u001b[39m\u001b[39mgithub\u001b[39m\u001b[39m\\\u001b[39m\u001b[39manalysis_nifti_for_deeplearning\u001b[39m\u001b[39m\\\u001b[39m\u001b[39mdata\u001b[39m\u001b[39m'\u001b[39m\n",
      "\u001b[1;31mNameError\u001b[0m: name 'NiftiAnalysis' is not defined"
     ]
    }
   ],
   "source": [
    "niftieda = NiftiAnalysis()\n",
    "nifit_folder = r'C:\\Users\\parkm\\Desktop\\github\\analysis_nifti_for_deeplearning\\data'"
   ]
  },
  {
   "cell_type": "code",
   "execution_count": 29,
   "metadata": {},
   "outputs": [],
   "source": [
    "all_nifti_files_under_nifti_folder = niftieda.recursive_find_all_files(nifit_folder, '.nii.gz')"
   ]
  },
  {
   "cell_type": "code",
   "execution_count": 32,
   "metadata": {},
   "outputs": [
    {
     "name": "stdout",
     "output_type": "stream",
     "text": [
      "...summary table saved\n"
     ]
    }
   ],
   "source": [
    "niftieda.save_summary_table(all_nifti_files_under_nifti_folder, './01.nifti_eda_result.csv')\n",
    "\t"
   ]
  },
  {
   "cell_type": "code",
   "execution_count": null,
   "metadata": {},
   "outputs": [],
   "source": []
  }
 ],
 "metadata": {
  "interpreter": {
   "hash": "ad0e9ecde611ae35305dd4ed9aae66f2cfc24eed9b69d21cc1d6de69b29a2e73"
  },
  "kernelspec": {
   "display_name": "Python 3.8.5 ('miccai')",
   "language": "python",
   "name": "python3"
  },
  "language_info": {
   "codemirror_mode": {
    "name": "ipython",
    "version": 3
   },
   "file_extension": ".py",
   "mimetype": "text/x-python",
   "name": "python",
   "nbconvert_exporter": "python",
   "pygments_lexer": "ipython3",
   "version": "3.8.5"
  },
  "orig_nbformat": 4
 },
 "nbformat": 4,
 "nbformat_minor": 2
}
