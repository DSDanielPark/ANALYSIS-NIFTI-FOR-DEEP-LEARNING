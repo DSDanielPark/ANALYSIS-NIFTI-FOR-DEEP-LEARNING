{
 "cells": [
  {
   "cell_type": "code",
   "execution_count": 3,
   "metadata": {},
   "outputs": [
    {
     "name": "stdout",
     "output_type": "stream",
     "text": [
      "Collecting nibabel\n",
      "  Downloading nibabel-4.0.1-py3-none-any.whl (3.3 MB)\n",
      "Requirement already satisfied: setuptools in c:\\users\\ai6\\anaconda3\\envs\\tf\\lib\\site-packages (from nibabel) (61.2.0)\n",
      "Requirement already satisfied: numpy>=1.17 in c:\\users\\ai6\\anaconda3\\envs\\tf\\lib\\site-packages (from nibabel) (1.22.4)\n",
      "Requirement already satisfied: packaging>=17.0 in c:\\users\\ai6\\anaconda3\\envs\\tf\\lib\\site-packages (from nibabel) (21.3)\n",
      "Requirement already satisfied: pyparsing!=3.0.5,>=2.0.2 in c:\\users\\ai6\\anaconda3\\envs\\tf\\lib\\site-packages (from packaging>=17.0->nibabel) (3.0.9)\n",
      "Installing collected packages: nibabel\n",
      "Successfully installed nibabel-4.0.1\n"
     ]
    }
   ],
   "source": [
    "!pip install nibabel"
   ]
  },
  {
   "cell_type": "code",
   "execution_count": 10,
   "metadata": {},
   "outputs": [
    {
     "name": "stdout",
     "output_type": "stream",
     "text": [
      "Requirement already satisfied: pip in c:\\users\\ai6\\anaconda3\\envs\\tf\\lib\\site-packages (21.2.4)\n",
      "Collecting install\n",
      "  Downloading install-1.3.5-py3-none-any.whl (3.2 kB)\n",
      "Collecting matplotlib\n",
      "  Downloading matplotlib-3.5.2-cp39-cp39-win_amd64.whl (7.2 MB)\n",
      "Collecting kiwisolver>=1.0.1\n",
      "  Downloading kiwisolver-1.4.3-cp39-cp39-win_amd64.whl (55 kB)\n",
      "Collecting cycler>=0.10\n",
      "  Downloading cycler-0.11.0-py3-none-any.whl (6.4 kB)\n",
      "Requirement already satisfied: packaging>=20.0 in c:\\users\\ai6\\anaconda3\\envs\\tf\\lib\\site-packages (from matplotlib) (21.3)\n",
      "Requirement already satisfied: pyparsing>=2.2.1 in c:\\users\\ai6\\anaconda3\\envs\\tf\\lib\\site-packages (from matplotlib) (3.0.9)\n",
      "Requirement already satisfied: python-dateutil>=2.7 in c:\\users\\ai6\\anaconda3\\envs\\tf\\lib\\site-packages (from matplotlib) (2.8.2)\n",
      "Collecting pillow>=6.2.0\n",
      "  Downloading Pillow-9.2.0-cp39-cp39-win_amd64.whl (3.3 MB)\n",
      "Collecting fonttools>=4.22.0\n",
      "  Downloading fonttools-4.34.4-py3-none-any.whl (944 kB)\n",
      "Requirement already satisfied: numpy>=1.17 in c:\\users\\ai6\\anaconda3\\envs\\tf\\lib\\site-packages (from matplotlib) (1.22.4)\n",
      "Requirement already satisfied: six>=1.5 in c:\\users\\ai6\\anaconda3\\envs\\tf\\lib\\site-packages (from python-dateutil>=2.7->matplotlib) (1.16.0)\n",
      "Installing collected packages: pillow, kiwisolver, fonttools, cycler, matplotlib, install\n",
      "Successfully installed cycler-0.11.0 fonttools-4.34.4 install-1.3.5 kiwisolver-1.4.3 matplotlib-3.5.2 pillow-9.2.0\n"
     ]
    }
   ],
   "source": [
    "!pip install matplotlib"
   ]
  },
  {
   "cell_type": "code",
   "execution_count": 12,
   "metadata": {},
   "outputs": [],
   "source": [
    "import numpy as np\n",
    "import os\n",
    "import glob\n",
    "import nibabel as nib\n",
    "import sys\n",
    "import json\n",
    "import matplotlib.pyplot as plt"
   ]
  },
  {
   "cell_type": "code",
   "execution_count": null,
   "metadata": {},
   "outputs": [],
   "source": [
    "import sys\n",
    "from pathlib import Path\n",
    "sys.path.insert(0, str(Path(r'C:\\Users\\parkm\\Desktop\\github\\analysis_nifti_for_deeplearning\\src\\preprocessing.py').resolve().parent.parent))"
   ]
  },
  {
   "cell_type": "code",
   "execution_count": null,
   "metadata": {},
   "outputs": [],
   "source": []
  }
 ],
 "metadata": {
  "interpreter": {
   "hash": "063a23a5ab19cb0a4506519ca799524aaad55b5589278b434e235ef4a5535180"
  },
  "kernelspec": {
   "display_name": "Python 3.9.12 ('tf')",
   "language": "python",
   "name": "python3"
  },
  "language_info": {
   "codemirror_mode": {
    "name": "ipython",
    "version": 3
   },
   "file_extension": ".py",
   "mimetype": "text/x-python",
   "name": "python",
   "nbconvert_exporter": "python",
   "pygments_lexer": "ipython3",
   "version": "3.9.12"
  },
  "orig_nbformat": 4
 },
 "nbformat": 4,
 "nbformat_minor": 2
}
