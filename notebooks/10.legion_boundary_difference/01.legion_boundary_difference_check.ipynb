{
 "cells": [
  {
   "cell_type": "code",
   "execution_count": null,
   "metadata": {},
   "outputs": [],
   "source": [
    "!pip install nibabel"
   ]
  },
  {
   "cell_type": "code",
   "execution_count": null,
   "metadata": {},
   "outputs": [],
   "source": [
    "!pip install matplotlib"
   ]
  },
  {
   "cell_type": "code",
   "execution_count": 5,
   "metadata": {},
   "outputs": [],
   "source": [
    "import numpy as np\n",
    "import os\n",
    "import glob\n",
    "import nibabel as nib\n",
    "import sys\n",
    "import json\n",
    "import matplotlib.pyplot as plt"
   ]
  },
  {
   "cell_type": "code",
   "execution_count": 2,
   "metadata": {},
   "outputs": [],
   "source": [
    "import sys\n",
    "from pathlib import Path\n",
    "sys.path.insert(0, str(Path(r'C:\\Users\\ai6\\Desktop\\git\\ANALYSIS-NIFTI-FOR-DEEP-LEARNING\\src\\preprocessing.py').resolve().parent.parent))\n",
    "sys.path.insert(0, str(Path(r'C:\\Users\\ai6\\Desktop\\git\\ANALYSIS-NIFTI-FOR-DEEP-LEARNING\\src\\helper.py').resolve().parent.parent))"
   ]
  },
  {
   "cell_type": "code",
   "execution_count": 9,
   "metadata": {},
   "outputs": [
    {
     "name": "stdout",
     "output_type": "stream",
     "text": [
      "Collecting pandas\n",
      "  Downloading pandas-1.4.3-cp39-cp39-win_amd64.whl (10.6 MB)\n",
      "Requirement already satisfied: python-dateutil>=2.8.1 in c:\\users\\ai6\\anaconda3\\envs\\tf\\lib\\site-packages (from pandas) (2.8.2)\n",
      "Requirement already satisfied: numpy>=1.18.5 in c:\\users\\ai6\\anaconda3\\envs\\tf\\lib\\site-packages (from pandas) (1.22.4)\n",
      "Collecting pytz>=2020.1\n",
      "  Downloading pytz-2022.1-py2.py3-none-any.whl (503 kB)\n",
      "Requirement already satisfied: six>=1.5 in c:\\users\\ai6\\anaconda3\\envs\\tf\\lib\\site-packages (from python-dateutil>=2.8.1->pandas) (1.16.0)\n",
      "Installing collected packages: pytz, pandas\n",
      "Successfully installed pandas-1.4.3 pytz-2022.1\n"
     ]
    }
   ],
   "source": [
    "!pip install pandas"
   ]
  },
  {
   "cell_type": "code",
   "execution_count": 10,
   "metadata": {},
   "outputs": [],
   "source": [
    "from src.helper import *\n",
    "from src.eda_nifti import *"
   ]
  },
  {
   "cell_type": "code",
   "execution_count": 12,
   "metadata": {},
   "outputs": [],
   "source": [
    "nii_list = recursive_find_all_files(r'C:\\Users\\ai6\\Desktop\\git\\ANALYSIS-NIFTI-FOR-DEEP-LEARNING\\data\\test_data(3person)', 'nii.gz')"
   ]
  },
  {
   "cell_type": "code",
   "execution_count": 13,
   "metadata": {},
   "outputs": [
    {
     "data": {
      "text/plain": [
       "['C:\\\\Users\\\\ai6\\\\Desktop\\\\git\\\\ANALYSIS-NIFTI-FOR-DEEP-LEARNING\\\\data\\\\test_data(3person)\\\\mask\\\\sub-strokecase0049\\\\ses-0001\\\\sub-strokecase0049_ses-0001_msk.nii.gz',\n",
       " 'C:\\\\Users\\\\ai6\\\\Desktop\\\\git\\\\ANALYSIS-NIFTI-FOR-DEEP-LEARNING\\\\data\\\\test_data(3person)\\\\mask\\\\sub-strokecase0050\\\\ses-0001\\\\sub-strokecase0050_ses-0001_msk.nii.gz',\n",
       " 'C:\\\\Users\\\\ai6\\\\Desktop\\\\git\\\\ANALYSIS-NIFTI-FOR-DEEP-LEARNING\\\\data\\\\test_data(3person)\\\\mask\\\\sub-strokecase0051\\\\ses-0001\\\\sub-strokecase0051_ses-0001_msk.nii.gz',\n",
       " 'C:\\\\Users\\\\ai6\\\\Desktop\\\\git\\\\ANALYSIS-NIFTI-FOR-DEEP-LEARNING\\\\data\\\\test_data(3person)\\\\rawdata\\\\sub-strokecase0049\\\\ses-0001\\\\sub-strokecase0049_ses-0001_adc.nii.gz',\n",
       " 'C:\\\\Users\\\\ai6\\\\Desktop\\\\git\\\\ANALYSIS-NIFTI-FOR-DEEP-LEARNING\\\\data\\\\test_data(3person)\\\\rawdata\\\\sub-strokecase0049\\\\ses-0001\\\\sub-strokecase0049_ses-0001_dwi.nii.gz',\n",
       " 'C:\\\\Users\\\\ai6\\\\Desktop\\\\git\\\\ANALYSIS-NIFTI-FOR-DEEP-LEARNING\\\\data\\\\test_data(3person)\\\\rawdata\\\\sub-strokecase0049\\\\ses-0001\\\\sub-strokecase0049_ses-0001_flair.nii.gz',\n",
       " 'C:\\\\Users\\\\ai6\\\\Desktop\\\\git\\\\ANALYSIS-NIFTI-FOR-DEEP-LEARNING\\\\data\\\\test_data(3person)\\\\rawdata\\\\sub-strokecase0050\\\\ses-0001\\\\sub-strokecase0050_ses-0001_adc.nii.gz',\n",
       " 'C:\\\\Users\\\\ai6\\\\Desktop\\\\git\\\\ANALYSIS-NIFTI-FOR-DEEP-LEARNING\\\\data\\\\test_data(3person)\\\\rawdata\\\\sub-strokecase0050\\\\ses-0001\\\\sub-strokecase0050_ses-0001_dwi.nii.gz',\n",
       " 'C:\\\\Users\\\\ai6\\\\Desktop\\\\git\\\\ANALYSIS-NIFTI-FOR-DEEP-LEARNING\\\\data\\\\test_data(3person)\\\\rawdata\\\\sub-strokecase0050\\\\ses-0001\\\\sub-strokecase0050_ses-0001_flair.nii.gz',\n",
       " 'C:\\\\Users\\\\ai6\\\\Desktop\\\\git\\\\ANALYSIS-NIFTI-FOR-DEEP-LEARNING\\\\data\\\\test_data(3person)\\\\rawdata\\\\sub-strokecase0051\\\\ses-0001\\\\sub-strokecase0051_ses-0001_adc.nii.gz',\n",
       " 'C:\\\\Users\\\\ai6\\\\Desktop\\\\git\\\\ANALYSIS-NIFTI-FOR-DEEP-LEARNING\\\\data\\\\test_data(3person)\\\\rawdata\\\\sub-strokecase0051\\\\ses-0001\\\\sub-strokecase0051_ses-0001_dwi.nii.gz',\n",
       " 'C:\\\\Users\\\\ai6\\\\Desktop\\\\git\\\\ANALYSIS-NIFTI-FOR-DEEP-LEARNING\\\\data\\\\test_data(3person)\\\\rawdata\\\\sub-strokecase0051\\\\ses-0001\\\\sub-strokecase0051_ses-0001_flair.nii.gz']"
      ]
     },
     "execution_count": 13,
     "metadata": {},
     "output_type": "execute_result"
    }
   ],
   "source": [
    "nii_list"
   ]
  },
  {
   "cell_type": "code",
   "execution_count": 40,
   "metadata": {},
   "outputs": [],
   "source": [
    "matching_path_dict = dict()"
   ]
  },
  {
   "cell_type": "code",
   "execution_count": 37,
   "metadata": {},
   "outputs": [],
   "source": [
    "def get_mask_nii_path(nii_list, subject_numb, mask_word):\n",
    "\n",
    "    mask_nii_path = None\n",
    "    for nii_path in nii_list:\n",
    "        if subject_numb in nii_path and mask_word in nii_path:\n",
    "            mask_nii_path = nii_path\n",
    "\n",
    "    return mask_nii_path\n"
   ]
  },
  {
   "cell_type": "code",
   "execution_count": 46,
   "metadata": {},
   "outputs": [],
   "source": [
    "def get_matching_path_dict(nii_list, maskword): \n",
    "    matching_path_dict = dict()\n",
    "    for nii_path in nii_list:\n",
    "\n",
    "        if 'msk' not in nii_path:\n",
    "            raw_nii = nii_path\n",
    "            \n",
    "            try:\n",
    "                subject = nii_path.split('\\\\')[-1].split('_')[0]\n",
    "            except:\n",
    "                subject = nii_path.split('/')[-1].split('_')[0]\n",
    "\n",
    "            mask_nii_path = get_mask_nii_path(nii_list, subject, maskword)\n",
    "\n",
    "            matching_path_dict[raw_nii] = mask_nii_path\n",
    "\n",
    "        else:\n",
    "            pass\n",
    "    \n",
    "    return matching_path_dict"
   ]
  },
  {
   "cell_type": "code",
   "execution_count": 48,
   "metadata": {},
   "outputs": [
    {
     "name": "stdout",
     "output_type": "stream",
     "text": [
      "[16, 8]\n"
     ]
    }
   ],
   "source": [
    "def multiply(x):\n",
    "    return x*x\n",
    "\n",
    "def add(x):\n",
    "    return (x+x)\n",
    "\n",
    "funcs = [multiply, add]\n",
    "for i in range(5):\n",
    "    value = list(map(lambda f: f(i), funcs))\n",
    "\n",
    "print(value)"
   ]
  },
  {
   "cell_type": "code",
   "execution_count": 44,
   "metadata": {},
   "outputs": [],
   "source": [
    "matching_path_dict = get_matching_path_dict(nii_list, 'msk')"
   ]
  },
  {
   "cell_type": "code",
   "execution_count": 45,
   "metadata": {},
   "outputs": [
    {
     "data": {
      "text/plain": [
       "{'C:\\\\Users\\\\ai6\\\\Desktop\\\\git\\\\ANALYSIS-NIFTI-FOR-DEEP-LEARNING\\\\data\\\\test_data(3person)\\\\rawdata\\\\sub-strokecase0049\\\\ses-0001\\\\sub-strokecase0049_ses-0001_adc.nii.gz': 'C:\\\\Users\\\\ai6\\\\Desktop\\\\git\\\\ANALYSIS-NIFTI-FOR-DEEP-LEARNING\\\\data\\\\test_data(3person)\\\\mask\\\\sub-strokecase0051\\\\ses-0001\\\\sub-strokecase0051_ses-0001_msk.nii.gz',\n",
       " 'C:\\\\Users\\\\ai6\\\\Desktop\\\\git\\\\ANALYSIS-NIFTI-FOR-DEEP-LEARNING\\\\data\\\\test_data(3person)\\\\rawdata\\\\sub-strokecase0049\\\\ses-0001\\\\sub-strokecase0049_ses-0001_dwi.nii.gz': 'C:\\\\Users\\\\ai6\\\\Desktop\\\\git\\\\ANALYSIS-NIFTI-FOR-DEEP-LEARNING\\\\data\\\\test_data(3person)\\\\mask\\\\sub-strokecase0051\\\\ses-0001\\\\sub-strokecase0051_ses-0001_msk.nii.gz',\n",
       " 'C:\\\\Users\\\\ai6\\\\Desktop\\\\git\\\\ANALYSIS-NIFTI-FOR-DEEP-LEARNING\\\\data\\\\test_data(3person)\\\\rawdata\\\\sub-strokecase0049\\\\ses-0001\\\\sub-strokecase0049_ses-0001_flair.nii.gz': 'C:\\\\Users\\\\ai6\\\\Desktop\\\\git\\\\ANALYSIS-NIFTI-FOR-DEEP-LEARNING\\\\data\\\\test_data(3person)\\\\mask\\\\sub-strokecase0051\\\\ses-0001\\\\sub-strokecase0051_ses-0001_msk.nii.gz',\n",
       " 'C:\\\\Users\\\\ai6\\\\Desktop\\\\git\\\\ANALYSIS-NIFTI-FOR-DEEP-LEARNING\\\\data\\\\test_data(3person)\\\\rawdata\\\\sub-strokecase0050\\\\ses-0001\\\\sub-strokecase0050_ses-0001_adc.nii.gz': 'C:\\\\Users\\\\ai6\\\\Desktop\\\\git\\\\ANALYSIS-NIFTI-FOR-DEEP-LEARNING\\\\data\\\\test_data(3person)\\\\mask\\\\sub-strokecase0051\\\\ses-0001\\\\sub-strokecase0051_ses-0001_msk.nii.gz',\n",
       " 'C:\\\\Users\\\\ai6\\\\Desktop\\\\git\\\\ANALYSIS-NIFTI-FOR-DEEP-LEARNING\\\\data\\\\test_data(3person)\\\\rawdata\\\\sub-strokecase0050\\\\ses-0001\\\\sub-strokecase0050_ses-0001_dwi.nii.gz': 'C:\\\\Users\\\\ai6\\\\Desktop\\\\git\\\\ANALYSIS-NIFTI-FOR-DEEP-LEARNING\\\\data\\\\test_data(3person)\\\\mask\\\\sub-strokecase0051\\\\ses-0001\\\\sub-strokecase0051_ses-0001_msk.nii.gz',\n",
       " 'C:\\\\Users\\\\ai6\\\\Desktop\\\\git\\\\ANALYSIS-NIFTI-FOR-DEEP-LEARNING\\\\data\\\\test_data(3person)\\\\rawdata\\\\sub-strokecase0050\\\\ses-0001\\\\sub-strokecase0050_ses-0001_flair.nii.gz': 'C:\\\\Users\\\\ai6\\\\Desktop\\\\git\\\\ANALYSIS-NIFTI-FOR-DEEP-LEARNING\\\\data\\\\test_data(3person)\\\\mask\\\\sub-strokecase0051\\\\ses-0001\\\\sub-strokecase0051_ses-0001_msk.nii.gz',\n",
       " 'C:\\\\Users\\\\ai6\\\\Desktop\\\\git\\\\ANALYSIS-NIFTI-FOR-DEEP-LEARNING\\\\data\\\\test_data(3person)\\\\rawdata\\\\sub-strokecase0051\\\\ses-0001\\\\sub-strokecase0051_ses-0001_adc.nii.gz': 'C:\\\\Users\\\\ai6\\\\Desktop\\\\git\\\\ANALYSIS-NIFTI-FOR-DEEP-LEARNING\\\\data\\\\test_data(3person)\\\\mask\\\\sub-strokecase0051\\\\ses-0001\\\\sub-strokecase0051_ses-0001_msk.nii.gz',\n",
       " 'C:\\\\Users\\\\ai6\\\\Desktop\\\\git\\\\ANALYSIS-NIFTI-FOR-DEEP-LEARNING\\\\data\\\\test_data(3person)\\\\rawdata\\\\sub-strokecase0051\\\\ses-0001\\\\sub-strokecase0051_ses-0001_dwi.nii.gz': 'C:\\\\Users\\\\ai6\\\\Desktop\\\\git\\\\ANALYSIS-NIFTI-FOR-DEEP-LEARNING\\\\data\\\\test_data(3person)\\\\mask\\\\sub-strokecase0051\\\\ses-0001\\\\sub-strokecase0051_ses-0001_msk.nii.gz',\n",
       " 'C:\\\\Users\\\\ai6\\\\Desktop\\\\git\\\\ANALYSIS-NIFTI-FOR-DEEP-LEARNING\\\\data\\\\test_data(3person)\\\\rawdata\\\\sub-strokecase0051\\\\ses-0001\\\\sub-strokecase0051_ses-0001_flair.nii.gz': 'C:\\\\Users\\\\ai6\\\\Desktop\\\\git\\\\ANALYSIS-NIFTI-FOR-DEEP-LEARNING\\\\data\\\\test_data(3person)\\\\mask\\\\sub-strokecase0051\\\\ses-0001\\\\sub-strokecase0051_ses-0001_msk.nii.gz'}"
      ]
     },
     "execution_count": 45,
     "metadata": {},
     "output_type": "execute_result"
    }
   ],
   "source": [
    "matching_path_dict"
   ]
  },
  {
   "cell_type": "code",
   "execution_count": 50,
   "metadata": {},
   "outputs": [
    {
     "name": "stdout",
     "output_type": "stream",
     "text": [
      "Collecting simpleITK\n",
      "  Downloading SimpleITK-2.1.1.2-cp39-cp39-win_amd64.whl (26.2 MB)\n",
      "Installing collected packages: simpleITK\n",
      "Successfully installed simpleITK-2.1.1.2\n"
     ]
    }
   ],
   "source": [
    "!pip install simpleITK"
   ]
  },
  {
   "cell_type": "code",
   "execution_count": 53,
   "metadata": {},
   "outputs": [],
   "source": [
    "import SimpleITK as sitk"
   ]
  },
  {
   "cell_type": "code",
   "execution_count": 54,
   "metadata": {},
   "outputs": [],
   "source": [
    "def make_isotropic(image, interpolator = sitk.sitkLinear, spacing = None):\n",
    "    '''\n",
    "    Many file formats (e.g. jpg, png,...) expect the pixels to be isotropic, same\n",
    "    spacing for all axes. Saving non-isotropic data in these formats will result in\n",
    "    distorted images. This function makes an image isotropic via resampling, if needed.\n",
    "    Args:\n",
    "        image (SimpleITK.Image): Input image.\n",
    "        interpolator: By default the function uses a linear interpolator. For\n",
    "                      label images one should use the sitkNearestNeighbor interpolator\n",
    "                      so as not to introduce non-existant labels.\n",
    "        spacing (float): Desired spacing. If none given then use the smallest spacing from\n",
    "                         the original image.\n",
    "    Returns:\n",
    "        SimpleITK.Image with isotropic spacing which occupies the same region in space as\n",
    "        the input image.\n",
    "    '''\n",
    "    original_spacing = image.GetSpacing()\n",
    "    # Image is already isotropic, just return a copy.\n",
    "    if all(spc == original_spacing[0] for spc in original_spacing):\n",
    "        return sitk.Image(image)\n",
    "    # Make image isotropic via resampling.\n",
    "    original_size = image.GetSize()\n",
    "    if spacing is None:\n",
    "        spacing = min(original_spacing)\n",
    "    new_spacing = [spacing]*image.GetDimension()\n",
    "    new_size = [int(round(osz*ospc/spacing)) for osz, ospc in zip(original_size, original_spacing)]\n",
    "    return sitk.Resample(image, new_size, sitk.Transform(), interpolator,\n",
    "                         image.GetOrigin(), new_spacing, image.GetDirection(), 0, # default pixel value\n",
    "                         image.GetPixelID())"
   ]
  },
  {
   "cell_type": "code",
   "execution_count": 62,
   "metadata": {},
   "outputs": [],
   "source": [
    "def resample_fixedsize_fixedspacing (nifti_file_path, save_folder_path, interpolation, new_size, new_spacing):\n",
    "    '''\n",
    "    #img_sitk : sitk image (3D)\n",
    "    #interppolation: sitk.sitkLinear\n",
    "    #new_size : 64\n",
    "    #new_spacing: [1,1,1]\n",
    "    \n",
    "    (example)\n",
    "    new_img = resample_fixedsize_fixedspacing(nii_list[0], './result', sitk.sitkLinear, 64, [1,1,1])\n",
    "    '''\n",
    "\n",
    "\n",
    "    img_sitk = sitk.ReadImage(nifti_file_path)\n",
    "    # img_array = sitk.GetArrayFromImage(img_sitk)\n",
    "    try:\n",
    "        file_name = nifti_file_path.split('\\\\')[-1].rstrip('.nii.gz')\n",
    "    except:\n",
    "        file_name = nifti_file_path.split('/')[-1].rstrip('.nii.gz')\n",
    "\n",
    "    dimension = img_sitk.GetDimension()\n",
    "    reference_size = [new_size,new_size,new_size]\n",
    "    reference_physical_size = np.zeros(img_sitk.GetDimension())\n",
    "    reference_physical_size[:] = [(sz-1)*spc if sz*spc>mx  else mx for sz,spc,mx in zip(img_sitk.GetSize(), img_sitk.GetSpacing(), reference_physical_size)]\n",
    "    reference_direction = img_sitk.GetDirection()\n",
    "    reference_origin = img_sitk.GetOrigin()\n",
    "    \n",
    "    reference_image = sitk.Image(reference_size, img_sitk.GetPixelIDValue())\n",
    "    reference_image.SetOrigin(reference_origin)\n",
    "    reference_image.SetSpacing(new_spacing)\n",
    "    reference_image.SetDirection(reference_direction)\n",
    "\n",
    "    reference_center = np.array(reference_image.TransformContinuousIndexToPhysicalPoint(np.array(reference_image.GetSize())/2.0))\n",
    "    \n",
    "    transform = sitk.AffineTransform(dimension)\n",
    "    transform.SetMatrix(img_sitk.GetDirection())\n",
    "    transform.SetTranslation(np.array(img_sitk.GetOrigin()) - reference_origin)\n",
    "  \n",
    "    centering_transform = sitk.TranslationTransform(dimension)\n",
    "    img_center = np.array(img_sitk.TransformContinuousIndexToPhysicalPoint(np.array(img_sitk.GetSize())/2.0))\n",
    "    centering_transform.SetOffset(np.array(transform.GetInverse().TransformPoint(img_center) - reference_center))\n",
    "    centered_transform = sitk.CompositeTransform([centering_transform,transform])\n",
    "    new_img = sitk.Resample(img_sitk, reference_image, centered_transform, interpolation, 0.0)\n",
    "    \n",
    "    os.makedirs(save_folder_path, exist_ok=True)\n",
    "    sitk.WriteImage(new_img, f'{save_folder_path}/{file_name}_resampled.nii.gz')\n",
    "\n",
    "    return new_img"
   ]
  },
  {
   "cell_type": "code",
   "execution_count": 57,
   "metadata": {},
   "outputs": [
    {
     "data": {
      "text/plain": [
       "'C:\\\\Users\\\\ai6\\\\Desktop\\\\git\\\\ANALYSIS-NIFTI-FOR-DEEP-LEARNING\\\\data\\\\test_data(3person)\\\\mask\\\\sub-strokecase0049\\\\ses-0001\\\\sub-strokecase0049_ses-0001_msk.nii.gz'"
      ]
     },
     "execution_count": 57,
     "metadata": {},
     "output_type": "execute_result"
    }
   ],
   "source": [
    "nii_list[0]"
   ]
  },
  {
   "cell_type": "code",
   "execution_count": 63,
   "metadata": {},
   "outputs": [
    {
     "ename": "NameError",
     "evalue": "name 'img_sitk' is not defined",
     "output_type": "error",
     "traceback": [
      "\u001b[1;31m---------------------------------------------------------------------------\u001b[0m",
      "\u001b[1;31mNameError\u001b[0m                                 Traceback (most recent call last)",
      "\u001b[1;32mc:\\Users\\ai6\\Desktop\\git\\ANALYSIS-NIFTI-FOR-DEEP-LEARNING\\notebooks\\10.legion_boundary_difference\\01.legion_boundary_difference_check.ipynb Cell 20'\u001b[0m in \u001b[0;36m<cell line: 1>\u001b[1;34m()\u001b[0m\n\u001b[1;32m----> <a href='vscode-notebook-cell:/c%3A/Users/ai6/Desktop/git/ANALYSIS-NIFTI-FOR-DEEP-LEARNING/notebooks/10.legion_boundary_difference/01.legion_boundary_difference_check.ipynb#ch0000028?line=0'>1</a>\u001b[0m new_img \u001b[39m=\u001b[39m resample_fixedsize_fixedspacing(nii_list[\u001b[39m0\u001b[39;49m], \u001b[39m'\u001b[39;49m\u001b[39m./result\u001b[39;49m\u001b[39m'\u001b[39;49m, sitk\u001b[39m.\u001b[39;49msitkLinear, \u001b[39m64\u001b[39;49m, [\u001b[39m1\u001b[39;49m,\u001b[39m1\u001b[39;49m,\u001b[39m1\u001b[39;49m])\n",
      "\u001b[1;32mc:\\Users\\ai6\\Desktop\\git\\ANALYSIS-NIFTI-FOR-DEEP-LEARNING\\notebooks\\10.legion_boundary_difference\\01.legion_boundary_difference_check.ipynb Cell 18'\u001b[0m in \u001b[0;36mresample_fixedsize_fixedspacing\u001b[1;34m(nifti_file_path, save_folder_path, interpolation, new_size, new_spacing)\u001b[0m\n\u001b[0;32m     <a href='vscode-notebook-cell:/c%3A/Users/ai6/Desktop/git/ANALYSIS-NIFTI-FOR-DEEP-LEARNING/notebooks/10.legion_boundary_difference/01.legion_boundary_difference_check.ipynb#ch0000022?line=14'>15</a>\u001b[0m \u001b[39mexcept\u001b[39;00m:\n\u001b[0;32m     <a href='vscode-notebook-cell:/c%3A/Users/ai6/Desktop/git/ANALYSIS-NIFTI-FOR-DEEP-LEARNING/notebooks/10.legion_boundary_difference/01.legion_boundary_difference_check.ipynb#ch0000022?line=15'>16</a>\u001b[0m     file_name \u001b[39m=\u001b[39m nifti_file_path\u001b[39m.\u001b[39msplit(\u001b[39m'\u001b[39m\u001b[39m/\u001b[39m\u001b[39m'\u001b[39m)[\u001b[39m-\u001b[39m\u001b[39m1\u001b[39m]\u001b[39m.\u001b[39mrstrip(\u001b[39m'\u001b[39m\u001b[39m.nii.gz\u001b[39m\u001b[39m'\u001b[39m)\n\u001b[1;32m---> <a href='vscode-notebook-cell:/c%3A/Users/ai6/Desktop/git/ANALYSIS-NIFTI-FOR-DEEP-LEARNING/notebooks/10.legion_boundary_difference/01.legion_boundary_difference_check.ipynb#ch0000022?line=17'>18</a>\u001b[0m dimension \u001b[39m=\u001b[39m img_sitk\u001b[39m.\u001b[39mGetDimension()\n\u001b[0;32m     <a href='vscode-notebook-cell:/c%3A/Users/ai6/Desktop/git/ANALYSIS-NIFTI-FOR-DEEP-LEARNING/notebooks/10.legion_boundary_difference/01.legion_boundary_difference_check.ipynb#ch0000022?line=18'>19</a>\u001b[0m reference_size \u001b[39m=\u001b[39m [new_size,new_size,new_size]\n\u001b[0;32m     <a href='vscode-notebook-cell:/c%3A/Users/ai6/Desktop/git/ANALYSIS-NIFTI-FOR-DEEP-LEARNING/notebooks/10.legion_boundary_difference/01.legion_boundary_difference_check.ipynb#ch0000022?line=19'>20</a>\u001b[0m reference_physical_size \u001b[39m=\u001b[39m np\u001b[39m.\u001b[39mzeros(img_sitk\u001b[39m.\u001b[39mGetDimension())\n",
      "\u001b[1;31mNameError\u001b[0m: name 'img_sitk' is not defined"
     ]
    }
   ],
   "source": [
    "new_img = resample_fixedsize_fixedspacing(nii_list[0], './result', sitk.sitkLinear, 64, [1,1,1])"
   ]
  },
  {
   "cell_type": "code",
   "execution_count": 61,
   "metadata": {},
   "outputs": [],
   "source": [
    "sitk.WriteImage(new_img, 'test.nii.gz')\n"
   ]
  },
  {
   "cell_type": "code",
   "execution_count": null,
   "metadata": {},
   "outputs": [],
   "source": []
  }
 ],
 "metadata": {
  "interpreter": {
   "hash": "063a23a5ab19cb0a4506519ca799524aaad55b5589278b434e235ef4a5535180"
  },
  "kernelspec": {
   "display_name": "Python 3.9.12 ('tf')",
   "language": "python",
   "name": "python3"
  },
  "language_info": {
   "codemirror_mode": {
    "name": "ipython",
    "version": 3
   },
   "file_extension": ".py",
   "mimetype": "text/x-python",
   "name": "python",
   "nbconvert_exporter": "python",
   "pygments_lexer": "ipython3",
   "version": "3.9.12"
  },
  "orig_nbformat": 4
 },
 "nbformat": 4,
 "nbformat_minor": 2
}
