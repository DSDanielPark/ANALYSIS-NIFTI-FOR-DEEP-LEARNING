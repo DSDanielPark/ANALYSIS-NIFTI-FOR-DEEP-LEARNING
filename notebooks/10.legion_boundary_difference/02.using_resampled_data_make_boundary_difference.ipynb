{
 "cells": [
  {
   "cell_type": "code",
   "execution_count": 1,
   "metadata": {},
   "outputs": [],
   "source": [
    "import numpy as np\n",
    "import os\n",
    "import glob\n",
    "import nibabel as nib\n",
    "import sys\n",
    "import json\n",
    "import matplotlib.pyplot as plt"
   ]
  },
  {
   "cell_type": "markdown",
   "metadata": {},
   "source": [
    "src.resampling을 이용해서 다음과 같이 리샘플링함\n",
    "\n",
    "[resample_fixedsize_fixedspacing(nii_file, './result', sitk.sitkLinear, 128, [1,1,1]) for nii_file in nii_list]"
   ]
  },
  {
   "cell_type": "markdown",
   "metadata": {},
   "source": []
  }
 ],
 "metadata": {
  "interpreter": {
   "hash": "063a23a5ab19cb0a4506519ca799524aaad55b5589278b434e235ef4a5535180"
  },
  "kernelspec": {
   "display_name": "Python 3.9.12 ('tf')",
   "language": "python",
   "name": "python3"
  },
  "language_info": {
   "codemirror_mode": {
    "name": "ipython",
    "version": 3
   },
   "file_extension": ".py",
   "mimetype": "text/x-python",
   "name": "python",
   "nbconvert_exporter": "python",
   "pygments_lexer": "ipython3",
   "version": "3.9.12"
  },
  "orig_nbformat": 4
 },
 "nbformat": 4,
 "nbformat_minor": 2
}
