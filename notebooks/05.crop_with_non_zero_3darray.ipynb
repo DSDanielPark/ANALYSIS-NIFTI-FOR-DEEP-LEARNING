{
 "cells": [
  {
   "cell_type": "code",
   "execution_count": 1,
   "id": "e2251ad0-37b6-4442-a6e1-ff5642c5066a",
   "metadata": {},
   "outputs": [],
   "source": [
    "import numpy as np\n",
    "from scipy import ndimage\n",
    "import os\n",
    "\n",
    "import nibabel as nib "
   ]
  },
  {
   "cell_type": "code",
   "execution_count": 2,
   "id": "068b7292-8e77-4019-a68b-4a462ef7f91c",
   "metadata": {},
   "outputs": [],
   "source": [
    "def recursive_glob_files(top_folder_path, file_format):\n",
    "    gathered_file_pathes = []\n",
    "\n",
    "    for (root, directories, files) in os.walk(top_folder_path):\n",
    "        for file in files:\n",
    "            if file_format in file:\n",
    "                detect_file_path = os.path.join(root, file)\n",
    "                gathered_file_pathes.append(detect_file_path)\n",
    "\n",
    "    return gathered_file_pathes\n"
   ]
  },
  {
   "cell_type": "code",
   "execution_count": 3,
   "id": "78c2ee01-b4cc-4a33-a79d-e5bfaf9c6a9b",
   "metadata": {},
   "outputs": [],
   "source": [
    "task2_train_data_path = r'C:\\Users\\parkm\\Desktop\\github\\analysis_nifti_for_deeplearning\\data\\task2\\Training'\n",
    "\n",
    "task2_train_data_path_list =  recursive_glob_files(task2_train_data_path, '.nii.gz')\n",
    "\n",
    "task2_train_mask_data_path_list = [x for x in task2_train_data_path_list if x.endswith('mask.nii.gz')]"
   ]
  },
  {
   "cell_type": "code",
   "execution_count": 7,
   "id": "fd0375cf-db05-45ae-ab1e-fb48b2f672f2",
   "metadata": {},
   "outputs": [],
   "source": [
    "import SimpleITK as sitk"
   ]
  },
  {
   "cell_type": "code",
   "execution_count": 8,
   "id": "765caa06-d82c-4e88-a881-20cb9a22b635",
   "metadata": {},
   "outputs": [
    {
     "data": {
      "text/plain": [
       "'C:\\\\Users\\\\parkm\\\\Desktop\\\\github\\\\analysis_nifti_for_deeplearning\\\\data\\\\task2\\\\Training\\\\R001\\\\sub-r001s001\\\\ses-1\\\\anat\\\\sub-r001s001_ses-1_space-MNI152NLin2009aSym_label-L_desc-T1lesion_mask.nii.gz'"
      ]
     },
     "execution_count": 8,
     "metadata": {},
     "output_type": "execute_result"
    }
   ],
   "source": [
    "task2_train_data_path_list[0]"
   ]
  },
  {
   "cell_type": "code",
   "execution_count": 22,
   "id": "49e58aee-2c61-4eca-8179-50448a12d433",
   "metadata": {},
   "outputs": [],
   "source": [
    "raw_nii = nib.load(task2_train_data_path_list[0])\n",
    "raw_nii_array = raw_nii.get_fdata()\n",
    "raw_affine = raw_nii.affine"
   ]
  },
  {
   "cell_type": "code",
   "execution_count": 66,
   "id": "a0197000-c3a4-4c09-b1fa-5977367bc43d",
   "metadata": {},
   "outputs": [
    {
     "data": {
      "text/plain": [
       "(197, 233, 189)"
      ]
     },
     "execution_count": 66,
     "metadata": {},
     "output_type": "execute_result"
    }
   ],
   "source": [
    "raw_nii_array.shape"
   ]
  },
  {
   "cell_type": "code",
   "execution_count": 44,
   "id": "8fc4acd2-68e4-4bd6-9635-c3af309623ab",
   "metadata": {},
   "outputs": [],
   "source": [
    "non_zeros = np.nonzero(raw_nii_array)"
   ]
  },
  {
   "cell_type": "code",
   "execution_count": 65,
   "id": "ebc72735-aec7-4f54-b8d4-fff653ca633d",
   "metadata": {},
   "outputs": [
    {
     "data": {
      "text/plain": [
       "(array([ 70,  70,  70, ..., 166, 166, 166], dtype=int64),\n",
       " array([133, 134, 134, ..., 125, 126, 126], dtype=int64),\n",
       " array([62, 60, 61, ..., 96, 95, 96], dtype=int64))"
      ]
     },
     "execution_count": 65,
     "metadata": {},
     "output_type": "execute_result"
    }
   ],
   "source": [
    "non_zeros"
   ]
  },
  {
   "cell_type": "code",
   "execution_count": 53,
   "id": "a535231c-00a2-49e3-a842-90b21c8b29e2",
   "metadata": {},
   "outputs": [],
   "source": [
    "x_min = non_zeros[0].min()\n",
    "x_max = non_zeros[0].max()\n",
    "\n",
    "y_min = non_zeros[1].min()\n",
    "y_max = non_zeros[1].max()\n",
    "\n",
    "z_min = non_zeros[2].min()\n",
    "z_max = non_zeros[2].max()"
   ]
  },
  {
   "cell_type": "code",
   "execution_count": null,
   "id": "499eca59-3543-4abb-a908-cdc3dc3cab89",
   "metadata": {},
   "outputs": [],
   "source": []
  },
  {
   "cell_type": "code",
   "execution_count": null,
   "id": "614ba718-4b80-4f7a-9776-accd6bf82f2a",
   "metadata": {},
   "outputs": [],
   "source": []
  },
  {
   "cell_type": "code",
   "execution_count": 57,
   "id": "b23e00da-1c77-4812-9fd9-b26cf3f2a4c4",
   "metadata": {},
   "outputs": [],
   "source": [
    "xmin_list, xmax_list, ymin_list, ymax_list, zmin_list, zmax_list = [],[],[],[],[],[]\n",
    "\n",
    "\n",
    "for i in range(50):\n",
    "    raw_nii = nib.load(task2_train_data_path_list[i])\n",
    "    raw_nii_array = raw_nii.get_fdata()\n",
    "\n",
    "    x_min = non_zeros[0].min()\n",
    "    x_max = non_zeros[0].max()\n",
    "\n",
    "    y_min = non_zeros[1].min()\n",
    "    y_max = non_zeros[1].max()\n",
    "\n",
    "    z_min = non_zeros[2].min()\n",
    "    z_max = non_zeros[2].max()\n",
    "    \n",
    "    xmin_list.append(x_min)\n",
    "    xmax_list.append(x_max)\n",
    "    \n",
    "    ymin_list.append(y_min)\n",
    "    ymax_list.append(y_max)\n",
    "    \n",
    "    zmin_list.append(z_min)\n",
    "    zmax_list.append(z_max)"
   ]
  },
  {
   "cell_type": "code",
   "execution_count": 69,
   "id": "cda4c713-23f7-40e1-9546-06ca3d68d31d",
   "metadata": {},
   "outputs": [
    {
     "data": {
      "text/plain": [
       "[70,\n",
       " 70,\n",
       " 70,\n",
       " 70,\n",
       " 70,\n",
       " 70,\n",
       " 70,\n",
       " 70,\n",
       " 70,\n",
       " 70,\n",
       " 70,\n",
       " 70,\n",
       " 70,\n",
       " 70,\n",
       " 70,\n",
       " 70,\n",
       " 70,\n",
       " 70,\n",
       " 70,\n",
       " 70,\n",
       " 70,\n",
       " 70,\n",
       " 70,\n",
       " 70,\n",
       " 70,\n",
       " 70,\n",
       " 70,\n",
       " 70,\n",
       " 70,\n",
       " 70,\n",
       " 70,\n",
       " 70,\n",
       " 70,\n",
       " 70,\n",
       " 70,\n",
       " 70,\n",
       " 70,\n",
       " 70,\n",
       " 70,\n",
       " 70,\n",
       " 70,\n",
       " 70,\n",
       " 70,\n",
       " 70,\n",
       " 70,\n",
       " 70,\n",
       " 70,\n",
       " 70,\n",
       " 70,\n",
       " 70]"
      ]
     },
     "execution_count": 69,
     "metadata": {},
     "output_type": "execute_result"
    }
   ],
   "source": [
    "xmin_list\n"
   ]
  },
  {
   "cell_type": "code",
   "execution_count": 70,
   "id": "ee141252-307f-40f5-ba27-e2fda86ad3ec",
   "metadata": {},
   "outputs": [
    {
     "data": {
      "text/plain": [
       "[166,\n",
       " 166,\n",
       " 166,\n",
       " 166,\n",
       " 166,\n",
       " 166,\n",
       " 166,\n",
       " 166,\n",
       " 166,\n",
       " 166,\n",
       " 166,\n",
       " 166,\n",
       " 166,\n",
       " 166,\n",
       " 166,\n",
       " 166,\n",
       " 166,\n",
       " 166,\n",
       " 166,\n",
       " 166,\n",
       " 166,\n",
       " 166,\n",
       " 166,\n",
       " 166,\n",
       " 166,\n",
       " 166,\n",
       " 166,\n",
       " 166,\n",
       " 166,\n",
       " 166,\n",
       " 166,\n",
       " 166,\n",
       " 166,\n",
       " 166,\n",
       " 166,\n",
       " 166,\n",
       " 166,\n",
       " 166,\n",
       " 166,\n",
       " 166,\n",
       " 166,\n",
       " 166,\n",
       " 166,\n",
       " 166,\n",
       " 166,\n",
       " 166,\n",
       " 166,\n",
       " 166,\n",
       " 166,\n",
       " 166]"
      ]
     },
     "execution_count": 70,
     "metadata": {},
     "output_type": "execute_result"
    }
   ],
   "source": [
    "xmax_list"
   ]
  },
  {
   "cell_type": "code",
   "execution_count": 68,
   "id": "28065550-b247-4c70-a032-4e118eca0887",
   "metadata": {},
   "outputs": [
    {
     "data": {
      "text/plain": [
       "[81,\n",
       " 81,\n",
       " 81,\n",
       " 81,\n",
       " 81,\n",
       " 81,\n",
       " 81,\n",
       " 81,\n",
       " 81,\n",
       " 81,\n",
       " 81,\n",
       " 81,\n",
       " 81,\n",
       " 81,\n",
       " 81,\n",
       " 81,\n",
       " 81,\n",
       " 81,\n",
       " 81,\n",
       " 81,\n",
       " 81,\n",
       " 81,\n",
       " 81,\n",
       " 81,\n",
       " 81,\n",
       " 81,\n",
       " 81,\n",
       " 81,\n",
       " 81,\n",
       " 81,\n",
       " 81,\n",
       " 81,\n",
       " 81,\n",
       " 81,\n",
       " 81,\n",
       " 81,\n",
       " 81,\n",
       " 81,\n",
       " 81,\n",
       " 81,\n",
       " 81,\n",
       " 81,\n",
       " 81,\n",
       " 81,\n",
       " 81,\n",
       " 81,\n",
       " 81,\n",
       " 81,\n",
       " 81,\n",
       " 81]"
      ]
     },
     "execution_count": 68,
     "metadata": {},
     "output_type": "execute_result"
    }
   ],
   "source": [
    "ymin_list"
   ]
  },
  {
   "cell_type": "code",
   "execution_count": 67,
   "id": "f9c94dcf-dfef-4d06-b202-a8c4a917c912",
   "metadata": {},
   "outputs": [
    {
     "data": {
      "text/plain": [
       "[187,\n",
       " 187,\n",
       " 187,\n",
       " 187,\n",
       " 187,\n",
       " 187,\n",
       " 187,\n",
       " 187,\n",
       " 187,\n",
       " 187,\n",
       " 187,\n",
       " 187,\n",
       " 187,\n",
       " 187,\n",
       " 187,\n",
       " 187,\n",
       " 187,\n",
       " 187,\n",
       " 187,\n",
       " 187,\n",
       " 187,\n",
       " 187,\n",
       " 187,\n",
       " 187,\n",
       " 187,\n",
       " 187,\n",
       " 187,\n",
       " 187,\n",
       " 187,\n",
       " 187,\n",
       " 187,\n",
       " 187,\n",
       " 187,\n",
       " 187,\n",
       " 187,\n",
       " 187,\n",
       " 187,\n",
       " 187,\n",
       " 187,\n",
       " 187,\n",
       " 187,\n",
       " 187,\n",
       " 187,\n",
       " 187,\n",
       " 187,\n",
       " 187,\n",
       " 187,\n",
       " 187,\n",
       " 187,\n",
       " 187]"
      ]
     },
     "execution_count": 67,
     "metadata": {},
     "output_type": "execute_result"
    }
   ],
   "source": [
    "ymax_list"
   ]
  },
  {
   "cell_type": "code",
   "execution_count": 72,
   "id": "0911cf23-efba-4377-ae18-cc7471babcd5",
   "metadata": {},
   "outputs": [
    {
     "data": {
      "text/plain": [
       "[48,\n",
       " 48,\n",
       " 48,\n",
       " 48,\n",
       " 48,\n",
       " 48,\n",
       " 48,\n",
       " 48,\n",
       " 48,\n",
       " 48,\n",
       " 48,\n",
       " 48,\n",
       " 48,\n",
       " 48,\n",
       " 48,\n",
       " 48,\n",
       " 48,\n",
       " 48,\n",
       " 48,\n",
       " 48,\n",
       " 48,\n",
       " 48,\n",
       " 48,\n",
       " 48,\n",
       " 48,\n",
       " 48,\n",
       " 48,\n",
       " 48,\n",
       " 48,\n",
       " 48,\n",
       " 48,\n",
       " 48,\n",
       " 48,\n",
       " 48,\n",
       " 48,\n",
       " 48,\n",
       " 48,\n",
       " 48,\n",
       " 48,\n",
       " 48,\n",
       " 48,\n",
       " 48,\n",
       " 48,\n",
       " 48,\n",
       " 48,\n",
       " 48,\n",
       " 48,\n",
       " 48,\n",
       " 48,\n",
       " 48]"
      ]
     },
     "execution_count": 72,
     "metadata": {},
     "output_type": "execute_result"
    }
   ],
   "source": [
    "zmin_list"
   ]
  },
  {
   "cell_type": "code",
   "execution_count": 71,
   "id": "fbc33e57-2503-415e-9599-95a6cf93e2c7",
   "metadata": {},
   "outputs": [
    {
     "data": {
      "text/plain": [
       "[139,\n",
       " 139,\n",
       " 139,\n",
       " 139,\n",
       " 139,\n",
       " 139,\n",
       " 139,\n",
       " 139,\n",
       " 139,\n",
       " 139,\n",
       " 139,\n",
       " 139,\n",
       " 139,\n",
       " 139,\n",
       " 139,\n",
       " 139,\n",
       " 139,\n",
       " 139,\n",
       " 139,\n",
       " 139,\n",
       " 139,\n",
       " 139,\n",
       " 139,\n",
       " 139,\n",
       " 139,\n",
       " 139,\n",
       " 139,\n",
       " 139,\n",
       " 139,\n",
       " 139,\n",
       " 139,\n",
       " 139,\n",
       " 139,\n",
       " 139,\n",
       " 139,\n",
       " 139,\n",
       " 139,\n",
       " 139,\n",
       " 139,\n",
       " 139,\n",
       " 139,\n",
       " 139,\n",
       " 139,\n",
       " 139,\n",
       " 139,\n",
       " 139,\n",
       " 139,\n",
       " 139,\n",
       " 139,\n",
       " 139]"
      ]
     },
     "execution_count": 71,
     "metadata": {},
     "output_type": "execute_result"
    }
   ],
   "source": [
    "zmax_list"
   ]
  },
  {
   "cell_type": "code",
   "execution_count": null,
   "id": "5f51ec5b-1ac1-4330-943f-c8da3b352d31",
   "metadata": {},
   "outputs": [],
   "source": []
  }
 ],
 "metadata": {
  "kernelspec": {
   "display_name": "miccai",
   "language": "python",
   "name": "miccai"
  },
  "language_info": {
   "codemirror_mode": {
    "name": "ipython",
    "version": 3
   },
   "file_extension": ".py",
   "mimetype": "text/x-python",
   "name": "python",
   "nbconvert_exporter": "python",
   "pygments_lexer": "ipython3",
   "version": "3.8.5"
  }
 },
 "nbformat": 4,
 "nbformat_minor": 5
}
