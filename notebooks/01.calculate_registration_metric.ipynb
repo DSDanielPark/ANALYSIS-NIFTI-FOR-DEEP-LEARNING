{
 "cells": [
  {
   "cell_type": "code",
   "execution_count": 176,
   "metadata": {},
   "outputs": [],
   "source": [
    "import SimpleITK as sitk\n",
    "%matplotlib inline\n",
    "import matplotlib.pyplot as plt\n",
    "from ipywidgets import interact, fixed\n",
    "from IPython.display import clear_output\n",
    "import pprint\n",
    "import os, sys\n",
    "import pandas_profiling\n",
    "import sys\n",
    "import json\n",
    "from scipy import ndimage\n",
    "import nibabel as nib \n",
    "from pathlib import Path\n",
    "sys.path.insert(0, str(Path(r'C:\\Users\\parkm\\Desktop\\github\\analysis_nifti_for_deeplearning\\src\\registration_metric.pyy').resolve().parent.parent))\n",
    "from src.eda_nifti import *\n",
    "from src.registration_metric import *"
   ]
  },
  {
   "cell_type": "code",
   "execution_count": 52,
   "metadata": {},
   "outputs": [],
   "source": [
    "def recursive_glob_files(top_folder_path, file_format):\n",
    "    gathered_file_pathes = []\n",
    "\n",
    "    for (root, directories, files) in os.walk(top_folder_path):\n",
    "        for file in files:\n",
    "            if file_format in file:\n",
    "                detect_file_path = os.path.join(root, file)\n",
    "                gathered_file_pathes.append(detect_file_path)\n",
    "\n",
    "    return gathered_file_pathes"
   ]
  },
  {
   "cell_type": "code",
   "execution_count": 46,
   "metadata": {},
   "outputs": [],
   "source": [
    "def display_images(fixed_image_z, moving_image_z, fixed_npa, moving_npa):\n",
    "    # Create a figure with two subplots and the specified size.\n",
    "    plt.subplots(1,2,figsize=(10,8))\n",
    "   \n",
    "    # Draw the fixed image in the first subplot.\n",
    "    plt.subplot(1,2,1)\n",
    "    plt.imshow(fixed_npa[fixed_image_z,:,:],cmap=plt.cm.Greys_r);\n",
    "    plt.title('fixed image')\n",
    "    plt.axis('off')\n",
    "   \n",
    "    # Draw the moving image in the second subplot.\n",
    "    plt.subplot(1,2,2)\n",
    "    plt.imshow(moving_npa[moving_image_z,:,:],cmap=plt.cm.Greys_r);\n",
    "    plt.title('moving image')\n",
    "    plt.axis('off')\n",
    "   \n",
    "    plt.show()"
   ]
  },
  {
   "cell_type": "code",
   "execution_count": 40,
   "metadata": {},
   "outputs": [],
   "source": [
    "def display_images_with_alpha(image_z, alpha, fixed, moving):\n",
    "    img = (1.0 - alpha)*fixed[:,:,image_z] + alpha*moving[:,:,image_z] \n",
    "    plt.imshow(sitk.GetArrayViewFromImage(img),cmap=plt.cm.Greys_r);\n",
    "    plt.axis('off')\n",
    "    plt.show()"
   ]
  },
  {
   "cell_type": "markdown",
   "metadata": {
    "tags": []
   },
   "source": [
    "# 0. Data Definition and Tree"
   ]
  },
  {
   "cell_type": "markdown",
   "metadata": {},
   "source": [
    "- task1: ISCHEMIC STROKE LESION (multi-modal) adc, dwi, flair\n",
    "- task2: ATLAS 2.0 (uni-modal) t1"
   ]
  },
  {
   "cell_type": "markdown",
   "metadata": {},
   "source": [
    "## task1: In the folder at the bottom, there are 3 nifti images each and a json file containing meta information."
   ]
  },
  {
   "cell_type": "raw",
   "metadata": {},
   "source": [
    "├─derivatives\n",
    "│  ├─sub-strokecase0001\n",
    "│  │  └─ses-0001\n",
    "│  ├─sub-strokecase0002\n",
    "│  │  └─ses-0001\n",
    "│  ├─sub-strokecase0003\n",
    "│  │  └─ses-0001\n",
    "│  ├─sub-strokecase0004\n",
    "         ...\n",
    "│  │  └─ses-0001\n",
    "│  ├─sub-strokecase0247\n",
    "│  │  └─ses-0001\n",
    "│  ├─sub-strokecase0248\n",
    "│  │  └─ses-0001\n",
    "│  ├─sub-strokecase0249\n",
    "│  │  └─ses-0001\n",
    "│  └─sub-strokecase0250\n",
    "│      └─ses-0001\n",
    "└─rawdata\n",
    "    ├─sub-strokecase0001\n",
    "    │  └─ses-0001\n",
    "    ├─sub-strokecase0002\n",
    "    │  └─ses-0001\n",
    "    ├─sub-strokecase0003\n",
    "    │  └─ses-0001\n",
    "    ├─sub-strokecase0004\n",
    "    │  └─ses-0001\n",
    "    ├─sub-strokecase0005\n",
    "    │  └─ses-0001\n",
    "    ├─sub-strokecase0006\n",
    "    │  └─ses-0001\n",
    "    ├─sub-strokecase0007\n",
    "    │  └─ses-0001\n",
    "    ├─sub-strokecase0008\n",
    "         ...\n",
    "    ├─sub-strokecase0247\n",
    "    │  └─ses-0001\n",
    "    ├─sub-strokecase0248\n",
    "    │  └─ses-0001\n",
    "    ├─sub-strokecase0249\n",
    "    │  └─ses-0001\n",
    "    └─sub-strokecase0250\n",
    "        └─ses-0001"
   ]
  },
  {
   "cell_type": "code",
   "execution_count": 116,
   "metadata": {},
   "outputs": [],
   "source": [
    "raw_data_folder_path = r'C:\\Users\\parkm\\Desktop\\github\\analysis_nifti_for_deeplearning\\data\\task1\\rawdata'"
   ]
  },
  {
   "cell_type": "code",
   "execution_count": 117,
   "metadata": {},
   "outputs": [],
   "source": [
    "raw_nifti_data_pathes = recursive_glob_files(raw_data_folder_path, '.nii.gz')\n",
    "raw_nifti_meda_json_data_pathes = recursive_glob_files(raw_data_folder_path, '.json')"
   ]
  },
  {
   "cell_type": "code",
   "execution_count": 118,
   "metadata": {},
   "outputs": [
    {
     "name": "stdout",
     "output_type": "stream",
     "text": [
      "task1: raw_data total_count: 750\n",
      "task1: raw_nifti_meda_json_data total_count: 432\n"
     ]
    }
   ],
   "source": [
    "print(f'task1: raw_data total_count: {len(raw_nifti_data_pathes)}')\n",
    "print(f'task1: raw_nifti_meda_json_data total_count: {len(raw_nifti_meda_json_data_pathes)}')"
   ]
  },
  {
   "cell_type": "code",
   "execution_count": 119,
   "metadata": {},
   "outputs": [],
   "source": [
    "total_json = dict()\n",
    "\n",
    "for i, json_file_path in enumerate(raw_nifti_meda_json_data_pathes):\n",
    "    with open(json_file_path) as json_file:\n",
    "        json_data = json.load(json_file)\n",
    "   \n",
    "    total_json[json_file_path] = json_data\n"
   ]
  },
  {
   "cell_type": "code",
   "execution_count": 129,
   "metadata": {},
   "outputs": [],
   "source": [
    "df_total_json = pd.DataFrame(total_json).T"
   ]
  },
  {
   "cell_type": "code",
   "execution_count": 130,
   "metadata": {},
   "outputs": [],
   "source": [
    "df_total_json.reset_index(inplace=True)"
   ]
  },
  {
   "cell_type": "code",
   "execution_count": 131,
   "metadata": {},
   "outputs": [],
   "source": [
    "df_total_json['subject'] = [ x.split('\\\\')[-3] for x in df_total_json['index']]"
   ]
  },
  {
   "cell_type": "code",
   "execution_count": 132,
   "metadata": {},
   "outputs": [],
   "source": [
    "df_total_json['modality'] = [ x.split('\\\\')[-1].split('_')[-1].rstrip('.json') for x in df_total_json['index']]"
   ]
  },
  {
   "cell_type": "code",
   "execution_count": 133,
   "metadata": {},
   "outputs": [],
   "source": [
    "df_total_json.drop(['index'], axis=1, inplace=True)"
   ]
  },
  {
   "cell_type": "code",
   "execution_count": 134,
   "metadata": {},
   "outputs": [],
   "source": [
    "df_total_json = df_total_json[['dataset', 'subject', 'modality', 'ImageType', 'Modality', 'Manufacturer',\n",
    "       'ManufacturerModelName', 'PatientSex', 'PatientAge', 'PatientWeight',\n",
    "       'BodyPartExamined', 'ScanningSequence', 'SequenceVariant',\n",
    "       'ScanOptions', 'MRAcquisitionType', 'SliceThickness', 'RepetitionTime',\n",
    "       'EchoTime', 'NumberOfAverages', 'ImagingFrequency', 'ImagedNucleus',\n",
    "       'EchoNumbers', 'MagneticFieldStrength', 'SpacingBetweenSlices',\n",
    "       'NumberOfPhaseEncodingSteps', 'EchoTrainLength', 'PercentSampling',\n",
    "       'PercentPhaseFieldOfView', 'PixelBandwidth', 'ReconstructionDiameter',\n",
    "       'ReceiveCoilName', 'AcquisitionMatrix', 'FlipAngle', 'PatientPosition',\n",
    "       'AcquisitionDuration', 'DiffusionBValue',\n",
    "       'DiffusionGradientOrientation', 'ImagePositionPatient',\n",
    "       'ImageOrientationPatient', 'Rows', 'Columns', 'InversionTime',\n",
    "       ]]"
   ]
  },
  {
   "cell_type": "code",
   "execution_count": 136,
   "metadata": {},
   "outputs": [],
   "source": [
    "df_total_json.to_csv(\"task1_meta_data.csv\", encoding='ansi', index=False)"
   ]
  },
  {
   "cell_type": "code",
   "execution_count": 163,
   "metadata": {},
   "outputs": [
    {
     "data": {
      "application/vnd.jupyter.widget-view+json": {
       "model_id": "69a956265c0e4b958958d91faeb17e63",
       "version_major": 2,
       "version_minor": 0
      },
      "text/plain": [
       "Summarize dataset:   0%|          | 0/5 [00:00<?, ?it/s]"
      ]
     },
     "metadata": {},
     "output_type": "display_data"
    },
    {
     "data": {
      "application/vnd.jupyter.widget-view+json": {
       "model_id": "011b5de6c2e54e30a12098bd574d80d3",
       "version_major": 2,
       "version_minor": 0
      },
      "text/plain": [
       "Generate report structure:   0%|          | 0/1 [00:00<?, ?it/s]"
      ]
     },
     "metadata": {},
     "output_type": "display_data"
    },
    {
     "data": {
      "application/vnd.jupyter.widget-view+json": {
       "model_id": "3467c1c82e3f438c92df1da38075cc0d",
       "version_major": 2,
       "version_minor": 0
      },
      "text/plain": [
       "Render HTML:   0%|          | 0/1 [00:00<?, ?it/s]"
      ]
     },
     "metadata": {},
     "output_type": "display_data"
    },
    {
     "data": {
      "application/vnd.jupyter.widget-view+json": {
       "model_id": "2f58ab3c92834990b1091f6f801291b8",
       "version_major": 2,
       "version_minor": 0
      },
      "text/plain": [
       "Export report to file:   0%|          | 0/1 [00:00<?, ?it/s]"
      ]
     },
     "metadata": {},
     "output_type": "display_data"
    }
   ],
   "source": [
    "pr_of_task1=df_total_json.profile_report() # 프로파일링 결과 리포트를 pr에 저장\n",
    "pr_of_task1.to_file('./pr_report_of_task1.html')"
   ]
  },
  {
   "cell_type": "markdown",
   "metadata": {},
   "source": [
    "## task2: meta data excel profiling"
   ]
  },
  {
   "cell_type": "code",
   "execution_count": 155,
   "metadata": {},
   "outputs": [
    {
     "name": "stdout",
     "output_type": "stream",
     "text": [
      "Collecting openpyxl\n",
      "  Downloading openpyxl-3.0.10-py2.py3-none-any.whl (242 kB)\n",
      "Collecting et-xmlfile\n",
      "  Downloading et_xmlfile-1.1.0-py3-none-any.whl (4.7 kB)\n",
      "Installing collected packages: et-xmlfile, openpyxl\n",
      "Successfully installed et-xmlfile-1.1.0 openpyxl-3.0.10\n"
     ]
    }
   ],
   "source": [
    "!pip install openpyxl"
   ]
  },
  {
   "cell_type": "code",
   "execution_count": 158,
   "metadata": {},
   "outputs": [],
   "source": [
    "df_metadata_of_task2 = pd.read_excel(r\"C:\\Users\\parkm\\Desktop\\github\\analysis_nifti_for_deeplearning\\data\\task2\\20220425_ATLAS_2.0_MetaData.xlsx\")"
   ]
  },
  {
   "cell_type": "code",
   "execution_count": 162,
   "metadata": {},
   "outputs": [
    {
     "data": {
      "application/vnd.jupyter.widget-view+json": {
       "model_id": "f95a083ca1d24f80b554770cdc6a9ad1",
       "version_major": 2,
       "version_minor": 0
      },
      "text/plain": [
       "Summarize dataset:   0%|          | 0/5 [00:00<?, ?it/s]"
      ]
     },
     "metadata": {},
     "output_type": "display_data"
    },
    {
     "data": {
      "application/vnd.jupyter.widget-view+json": {
       "model_id": "e3e3342974954bd4ad13a6385fad548a",
       "version_major": 2,
       "version_minor": 0
      },
      "text/plain": [
       "Generate report structure:   0%|          | 0/1 [00:00<?, ?it/s]"
      ]
     },
     "metadata": {},
     "output_type": "display_data"
    },
    {
     "data": {
      "application/vnd.jupyter.widget-view+json": {
       "model_id": "e4396b5b8c9c4e0a8f938be37e48ba3d",
       "version_major": 2,
       "version_minor": 0
      },
      "text/plain": [
       "Render HTML:   0%|          | 0/1 [00:00<?, ?it/s]"
      ]
     },
     "metadata": {},
     "output_type": "display_data"
    },
    {
     "data": {
      "application/vnd.jupyter.widget-view+json": {
       "model_id": "9f92bb5cf018474b8a5d230b8880f455",
       "version_major": 2,
       "version_minor": 0
      },
      "text/plain": [
       "Export report to file:   0%|          | 0/1 [00:00<?, ?it/s]"
      ]
     },
     "metadata": {},
     "output_type": "display_data"
    }
   ],
   "source": [
    "pr_of_task2=df_metadata_of_task2.profile_report() # 프로파일링 결과 리포트를 pr에 저장\n",
    "pr_of_task2.to_file('./pr_report_of_task2.html')"
   ]
  },
  {
   "cell_type": "markdown",
   "metadata": {},
   "source": [
    "# 1. Make Meta dataframe using nifti file header"
   ]
  },
  {
   "cell_type": "markdown",
   "metadata": {},
   "source": [
    "- task1: ISCHEMIC STROKE LESION (multi-modal == adc, dwi, flair)\n",
    "- task2: ATLAS 2.0 (uni-modal == t1)"
   ]
  },
  {
   "cell_type": "code",
   "execution_count": null,
   "metadata": {},
   "outputs": [],
   "source": [
    "eda_nifti.save_summary_table('C:\\Users\\parkm\\Desktop\\github\\analysis_nifti_for_deeplearning\\data\\task2', '."
   ]
  },
  {
   "cell_type": "code",
   "execution_count": null,
   "metadata": {},
   "outputs": [],
   "source": []
  },
  {
   "cell_type": "code",
   "execution_count": null,
   "metadata": {},
   "outputs": [],
   "source": []
  },
  {
   "cell_type": "code",
   "execution_count": null,
   "metadata": {},
   "outputs": [],
   "source": []
  },
  {
   "cell_type": "markdown",
   "metadata": {},
   "source": [
    "# 2. Co-registered data?"
   ]
  },
  {
   "cell_type": "markdown",
   "metadata": {},
   "source": [
    "### 2.1 정성적 평가\n",
    "- 결과: adc, dwi는 spacing도 동일하고 정성적으로 Co-registered data로 판단할 수 있음\n",
    "- flair의 경우 다음과 같은 오류가 발생함\n",
    "\n",
    "The \"image2\" input may need casting to the \"64-bit float\" pixel type."
   ]
  },
  {
   "cell_type": "code",
   "execution_count": 43,
   "metadata": {},
   "outputs": [
    {
     "data": {
      "application/vnd.jupyter.widget-view+json": {
       "model_id": "21508d38ee154084899f68a0150995dd",
       "version_major": 2,
       "version_minor": 0
      },
      "text/plain": [
       "interactive(children=(IntSlider(value=36, description='image_z', max=72), FloatSlider(value=0.5, description='…"
      ]
     },
     "metadata": {},
     "output_type": "display_data"
    },
    {
     "data": {
      "text/plain": [
       "<function __main__.display_images_with_alpha(image_z, alpha, fixed, moving)>"
      ]
     },
     "execution_count": 43,
     "metadata": {},
     "output_type": "execute_result"
    }
   ],
   "source": [
    "fixed_image = sitk.ReadImage(r'C:\\Users\\parkm\\Desktop\\github\\analysis_nifti_for_deeplearning\\data\\task1\\rawdata\\sub-strokecase0001\\ses-0001\\sub-strokecase0001_ses-0001_adc.nii.gz')\n",
    "moving_image = sitk.ReadImage(r'C:\\Users\\parkm\\Desktop\\github\\analysis_nifti_for_deeplearning\\data\\task1\\rawdata\\sub-strokecase0001\\ses-0001\\sub-strokecase0001_ses-0001_dwi.nii.gz')\n",
    "\n",
    "interact(display_images_with_alpha, image_z=(0,fixed_image.GetSize()[2]-1), alpha=(0.0,1.0,0.05), fixed = fixed(fixed_image), moving=fixed(moving_image))"
   ]
  },
  {
   "cell_type": "code",
   "execution_count": 44,
   "metadata": {},
   "outputs": [
    {
     "data": {
      "application/vnd.jupyter.widget-view+json": {
       "model_id": "aac9ac879006477e9a1507deb7a883d2",
       "version_major": 2,
       "version_minor": 0
      },
      "text/plain": [
       "interactive(children=(IntSlider(value=36, description='image_z', max=72), FloatSlider(value=0.5, description='…"
      ]
     },
     "metadata": {},
     "output_type": "display_data"
    },
    {
     "data": {
      "text/plain": [
       "<function __main__.display_images_with_alpha(image_z, alpha, fixed, moving)>"
      ]
     },
     "execution_count": 44,
     "metadata": {},
     "output_type": "execute_result"
    }
   ],
   "source": [
    "fixed_image = sitk.ReadImage(r'C:\\Users\\parkm\\Desktop\\github\\analysis_nifti_for_deeplearning\\data\\task1\\rawdata\\sub-strokecase0001\\ses-0001\\sub-strokecase0001_ses-0001_adc.nii.gz')\n",
    "moving_image = sitk.ReadImage(r'C:\\Users\\parkm\\Desktop\\github\\analysis_nifti_for_deeplearning\\data\\task1\\rawdata\\sub-strokecase0001\\ses-0001\\sub-strokecase0001_ses-0001_flair.nii.gz')\n",
    "\n",
    "interact(display_images_with_alpha, image_z=(0,fixed_image.GetSize()[2]-1), alpha=(0.0,1.0,0.05), fixed = fixed(fixed_image), moving=fixed(moving_image))"
   ]
  },
  {
   "cell_type": "markdown",
   "metadata": {},
   "source": [
    "### 2.2 정량적 평가\n"
   ]
  },
  {
   "cell_type": "code",
   "execution_count": null,
   "metadata": {},
   "outputs": [],
   "source": []
  },
  {
   "cell_type": "code",
   "execution_count": null,
   "metadata": {},
   "outputs": [],
   "source": []
  },
  {
   "cell_type": "code",
   "execution_count": null,
   "metadata": {},
   "outputs": [],
   "source": []
  },
  {
   "cell_type": "code",
   "execution_count": null,
   "metadata": {},
   "outputs": [],
   "source": []
  },
  {
   "cell_type": "code",
   "execution_count": null,
   "metadata": {},
   "outputs": [],
   "source": []
  },
  {
   "cell_type": "code",
   "execution_count": null,
   "metadata": {},
   "outputs": [],
   "source": []
  },
  {
   "cell_type": "markdown",
   "metadata": {},
   "source": [
    "# 3. calculate missing volume size of task traing dataset (r29) atlas 2.0"
   ]
  },
  {
   "cell_type": "code",
   "execution_count": 165,
   "metadata": {},
   "outputs": [],
   "source": [
    "r29_mask = r'C:\\Users\\parkm\\Desktop\\github\\analysis_nifti_for_deeplearning\\data\\task2\\Training\\R029\\sub-r029s009\\ses-1\\anat\\sub-r029s009_ses-1_space-MNI152NLin2009aSym_label-L_desc-T1lesion_mask.nii.gz'"
   ]
  },
  {
   "cell_type": "code",
   "execution_count": 171,
   "metadata": {},
   "outputs": [],
   "source": [
    "task2_train_data_path = r'C:\\Users\\parkm\\Desktop\\github\\analysis_nifti_for_deeplearning\\data\\task2\\Training'"
   ]
  },
  {
   "cell_type": "code",
   "execution_count": 172,
   "metadata": {},
   "outputs": [],
   "source": [
    "task2_train_data_path_list =  recursive_glob_files(task2_train_data_path, '.nii.gz')"
   ]
  },
  {
   "cell_type": "code",
   "execution_count": 174,
   "metadata": {},
   "outputs": [],
   "source": [
    "task2_train_mask_data_path_list = [x for x in task2_train_data_path_list if x.endswith('mask.nii.gz')]"
   ]
  },
  {
   "cell_type": "code",
   "execution_count": 196,
   "metadata": {},
   "outputs": [],
   "source": [
    "def calculate_filled_lesion_volume(nifti_file_path):\n",
    "    img = nib.load(nifti_file_path)\n",
    "    nifti_arr = img.get_fdata()\n",
    "    fill_hole_nifit_arr = ndimage.binary_fill_holes(nifti_arr).astype(int)\n",
    "    filled_lesion_volume = np.count_nonzero(fill_hole_nifit_arr)\n",
    "    \n",
    "    return filled_lesion_volume"
   ]
  },
  {
   "cell_type": "code",
   "execution_count": 197,
   "metadata": {},
   "outputs": [],
   "source": [
    "def calculate_hole_lesion_volume(nifti_file_path):\n",
    "    img = nib.load(nifti_file_path)\n",
    "    nifti_arr = img.get_fdata()\n",
    "    \n",
    "    hole_lesion_volume = np.count_nonzero(nifti_arr)\n",
    "    \n",
    "    return hole_lesion_volume"
   ]
  },
  {
   "cell_type": "code",
   "execution_count": 198,
   "metadata": {},
   "outputs": [],
   "source": [
    "total_dict = dict()"
   ]
  },
  {
   "cell_type": "code",
   "execution_count": null,
   "metadata": {},
   "outputs": [],
   "source": []
  },
  {
   "cell_type": "code",
   "execution_count": null,
   "metadata": {},
   "outputs": [],
   "source": []
  },
  {
   "cell_type": "code",
   "execution_count": 229,
   "metadata": {},
   "outputs": [
    {
     "data": {
      "text/plain": [
       "array([[0, 0, 0, 0, 0],\n",
       "       [0, 1, 1, 1, 0],\n",
       "       [0, 1, 0, 1, 0],\n",
       "       [0, 1, 1, 1, 0],\n",
       "       [0, 0, 0, 0, 0]])"
      ]
     },
     "execution_count": 229,
     "metadata": {},
     "output_type": "execute_result"
    }
   ],
   "source": [
    "from scipy import ndimage\n",
    "a = np.zeros((5, 5), dtype=int)\n",
    "a[1:4, 1:4] = 1\n",
    "a[2,2] = 0\n",
    "a"
   ]
  },
  {
   "cell_type": "code",
   "execution_count": 230,
   "metadata": {},
   "outputs": [
    {
     "data": {
      "text/plain": [
       "array([[0, 0, 0, 0, 0],\n",
       "       [0, 1, 1, 1, 0],\n",
       "       [0, 1, 1, 1, 0],\n",
       "       [0, 1, 1, 1, 0],\n",
       "       [0, 0, 0, 0, 0]])"
      ]
     },
     "execution_count": 230,
     "metadata": {},
     "output_type": "execute_result"
    }
   ],
   "source": [
    "ndimage.binary_fill_holes(a).astype(int)"
   ]
  },
  {
   "cell_type": "code",
   "execution_count": 231,
   "metadata": {},
   "outputs": [
    {
     "data": {
      "text/plain": [
       "array([[0, 0, 0, 0, 0],\n",
       "       [0, 1, 1, 1, 0],\n",
       "       [0, 1, 0, 1, 0],\n",
       "       [0, 1, 1, 1, 0],\n",
       "       [0, 0, 0, 0, 0]])"
      ]
     },
     "execution_count": 231,
     "metadata": {},
     "output_type": "execute_result"
    }
   ],
   "source": [
    "ndimage.binary_fill_holes(a, structure=np.ones((5,5))).astype(int)"
   ]
  },
  {
   "cell_type": "code",
   "execution_count": 208,
   "metadata": {},
   "outputs": [
    {
     "data": {
      "text/plain": [
       "'C:\\\\Users\\\\parkm\\\\Desktop\\\\github\\\\analysis_nifti_for_deeplearning\\\\data\\\\task2\\\\Training\\\\R001\\\\sub-r001s001\\\\ses-1\\\\anat\\\\sub-r001s001_ses-1_space-MNI152NLin2009aSym_label-L_desc-T1lesion_mask.nii.gz'"
      ]
     },
     "execution_count": 208,
     "metadata": {},
     "output_type": "execute_result"
    }
   ],
   "source": [
    "task2_train_mask_data_path_list[0]"
   ]
  },
  {
   "cell_type": "code",
   "execution_count": 206,
   "metadata": {},
   "outputs": [],
   "source": [
    "img = nib.load(task2_train_mask_data_path_list[0])\n",
    "nifti_arr = img.get_fdata()"
   ]
  },
  {
   "cell_type": "code",
   "execution_count": 207,
   "metadata": {},
   "outputs": [
    {
     "data": {
      "text/plain": [
       "112451"
      ]
     },
     "execution_count": 207,
     "metadata": {},
     "output_type": "execute_result"
    }
   ],
   "source": [
    "np.count_nonzero(nifti_arr)"
   ]
  },
  {
   "cell_type": "code",
   "execution_count": 210,
   "metadata": {},
   "outputs": [
    {
     "data": {
      "text/plain": [
       "112488"
      ]
     },
     "execution_count": 210,
     "metadata": {},
     "output_type": "execute_result"
    }
   ],
   "source": [
    "np.count_nonzero(ndimage.binary_fill_holes(nifti_arr).astype(int))"
   ]
  },
  {
   "cell_type": "code",
   "execution_count": 215,
   "metadata": {},
   "outputs": [
    {
     "data": {
      "text/plain": [
       "(197, 233, 189)"
      ]
     },
     "execution_count": 215,
     "metadata": {},
     "output_type": "execute_result"
    }
   ],
   "source": [
    "nifti_arr.shape"
   ]
  },
  {
   "cell_type": "code",
   "execution_count": 213,
   "metadata": {},
   "outputs": [
    {
     "data": {
      "text/plain": [
       "(197, 233)"
      ]
     },
     "execution_count": 213,
     "metadata": {},
     "output_type": "execute_result"
    }
   ],
   "source": [
    "nifti_arr[:,:,0].shape"
   ]
  },
  {
   "cell_type": "code",
   "execution_count": 223,
   "metadata": {},
   "outputs": [],
   "source": [
    "single_axis_arr = nifti_arr[:,:,90]"
   ]
  },
  {
   "cell_type": "code",
   "execution_count": 224,
   "metadata": {},
   "outputs": [],
   "source": [
    "single_axis_binary_fill_holes_arr = ndimage.binary_fill_holes(nifti_arr[:,:,90], structure=np.ones((197, 233)).astype(int))"
   ]
  },
  {
   "cell_type": "code",
   "execution_count": null,
   "metadata": {},
   "outputs": [],
   "source": []
  },
  {
   "cell_type": "code",
   "execution_count": null,
   "metadata": {},
   "outputs": [],
   "source": []
  },
  {
   "cell_type": "code",
   "execution_count": 225,
   "metadata": {},
   "outputs": [
    {
     "data": {
      "text/plain": [
       "2066"
      ]
     },
     "execution_count": 225,
     "metadata": {},
     "output_type": "execute_result"
    }
   ],
   "source": [
    "np.count_nonzero(single_axis_arr)"
   ]
  },
  {
   "cell_type": "code",
   "execution_count": 226,
   "metadata": {},
   "outputs": [
    {
     "data": {
      "text/plain": [
       "2066"
      ]
     },
     "execution_count": 226,
     "metadata": {},
     "output_type": "execute_result"
    }
   ],
   "source": [
    "np.count_nonzero(single_axis_binary_fill_holes_arr)"
   ]
  },
  {
   "cell_type": "code",
   "execution_count": 234,
   "metadata": {},
   "outputs": [
    {
     "data": {
      "text/plain": [
       "45901"
      ]
     },
     "execution_count": 234,
     "metadata": {},
     "output_type": "execute_result"
    }
   ],
   "source": [
    "np.count_nonzero(single_axis_arr == single_axis_binary_fill_holes_arr)"
   ]
  },
  {
   "cell_type": "code",
   "execution_count": null,
   "metadata": {},
   "outputs": [],
   "source": []
  },
  {
   "cell_type": "code",
   "execution_count": null,
   "metadata": {},
   "outputs": [],
   "source": []
  },
  {
   "cell_type": "code",
   "execution_count": null,
   "metadata": {},
   "outputs": [],
   "source": []
  },
  {
   "cell_type": "code",
   "execution_count": null,
   "metadata": {},
   "outputs": [],
   "source": []
  },
  {
   "cell_type": "code",
   "execution_count": null,
   "metadata": {},
   "outputs": [],
   "source": []
  },
  {
   "cell_type": "code",
   "execution_count": 256,
   "metadata": {},
   "outputs": [],
   "source": [
    "import nibabel as nib\n",
    "nii = nib.load(task2_train_mask_data_path_list[0])\n",
    "sx, sy, sz = nii.header.get_zooms()\n",
    "volume = sx * sy * sz"
   ]
  },
  {
   "cell_type": "code",
   "execution_count": 257,
   "metadata": {},
   "outputs": [
    {
     "data": {
      "text/plain": [
       "1.0"
      ]
     },
     "execution_count": 257,
     "metadata": {},
     "output_type": "execute_result"
    }
   ],
   "source": [
    "volume"
   ]
  },
  {
   "cell_type": "code",
   "execution_count": null,
   "metadata": {},
   "outputs": [],
   "source": []
  },
  {
   "cell_type": "code",
   "execution_count": null,
   "metadata": {},
   "outputs": [],
   "source": []
  },
  {
   "cell_type": "code",
   "execution_count": null,
   "metadata": {},
   "outputs": [],
   "source": []
  },
  {
   "cell_type": "code",
   "execution_count": null,
   "metadata": {},
   "outputs": [],
   "source": []
  },
  {
   "cell_type": "code",
   "execution_count": null,
   "metadata": {},
   "outputs": [],
   "source": []
  },
  {
   "cell_type": "code",
   "execution_count": null,
   "metadata": {},
   "outputs": [],
   "source": []
  },
  {
   "cell_type": "code",
   "execution_count": null,
   "metadata": {},
   "outputs": [],
   "source": []
  },
  {
   "cell_type": "code",
   "execution_count": null,
   "metadata": {},
   "outputs": [],
   "source": []
  },
  {
   "cell_type": "code",
   "execution_count": 199,
   "metadata": {},
   "outputs": [],
   "source": [
    "for i, task2_train_mask_data_path in enumerate(task2_train_mask_data_path_list):\n",
    "    temp_dict = dict()\n",
    "    temp_dict['file_name'] = task2_train_mask_data_path\n",
    "    temp_dict['filled_lesion_volume'] = calculate_filled_lesion_volume(task2_train_mask_data_path)\n",
    "    temp_dict['hole_lesion_volume'] = calculate_hole_lesion_volume(task2_train_mask_data_path)\n",
    "    \n",
    "    total_dict[i] = temp_dict"
   ]
  },
  {
   "cell_type": "code",
   "execution_count": 242,
   "metadata": {},
   "outputs": [],
   "source": [
    "df_task2_volume_size = pd.DataFrame(total_dict).T"
   ]
  },
  {
   "cell_type": "code",
   "execution_count": 252,
   "metadata": {},
   "outputs": [],
   "source": [
    "df_task2_volume_size['subject'] = [x.split('\\\\')[-1].split('_')[0] for x in df_task2_volume_size['file_name']]\n"
   ]
  },
  {
   "cell_type": "code",
   "execution_count": 254,
   "metadata": {},
   "outputs": [
    {
     "data": {
      "text/html": [
       "<div>\n",
       "<style scoped>\n",
       "    .dataframe tbody tr th:only-of-type {\n",
       "        vertical-align: middle;\n",
       "    }\n",
       "\n",
       "    .dataframe tbody tr th {\n",
       "        vertical-align: top;\n",
       "    }\n",
       "\n",
       "    .dataframe thead th {\n",
       "        text-align: right;\n",
       "    }\n",
       "</style>\n",
       "<table border=\"1\" class=\"dataframe\">\n",
       "  <thead>\n",
       "    <tr style=\"text-align: right;\">\n",
       "      <th></th>\n",
       "      <th>file_name</th>\n",
       "      <th>filled_legion_volume</th>\n",
       "      <th>hole_legion_volume</th>\n",
       "      <th>subject</th>\n",
       "    </tr>\n",
       "  </thead>\n",
       "  <tbody>\n",
       "    <tr>\n",
       "      <th>0</th>\n",
       "      <td>C:\\Users\\parkm\\Desktop\\github\\analysis_nifti_f...</td>\n",
       "      <td>112488</td>\n",
       "      <td>112451</td>\n",
       "      <td>sub-r001s001</td>\n",
       "    </tr>\n",
       "    <tr>\n",
       "      <th>1</th>\n",
       "      <td>C:\\Users\\parkm\\Desktop\\github\\analysis_nifti_f...</td>\n",
       "      <td>132613</td>\n",
       "      <td>132590</td>\n",
       "      <td>sub-r001s002</td>\n",
       "    </tr>\n",
       "    <tr>\n",
       "      <th>2</th>\n",
       "      <td>C:\\Users\\parkm\\Desktop\\github\\analysis_nifti_f...</td>\n",
       "      <td>1482</td>\n",
       "      <td>1482</td>\n",
       "      <td>sub-r001s003</td>\n",
       "    </tr>\n",
       "    <tr>\n",
       "      <th>3</th>\n",
       "      <td>C:\\Users\\parkm\\Desktop\\github\\analysis_nifti_f...</td>\n",
       "      <td>44701</td>\n",
       "      <td>44659</td>\n",
       "      <td>sub-r001s004</td>\n",
       "    </tr>\n",
       "    <tr>\n",
       "      <th>4</th>\n",
       "      <td>C:\\Users\\parkm\\Desktop\\github\\analysis_nifti_f...</td>\n",
       "      <td>31843</td>\n",
       "      <td>31792</td>\n",
       "      <td>sub-r001s005</td>\n",
       "    </tr>\n",
       "    <tr>\n",
       "      <th>...</th>\n",
       "      <td>...</td>\n",
       "      <td>...</td>\n",
       "      <td>...</td>\n",
       "      <td>...</td>\n",
       "    </tr>\n",
       "    <tr>\n",
       "      <th>650</th>\n",
       "      <td>C:\\Users\\parkm\\Desktop\\github\\analysis_nifti_f...</td>\n",
       "      <td>100200</td>\n",
       "      <td>100135</td>\n",
       "      <td>sub-r052s026</td>\n",
       "    </tr>\n",
       "    <tr>\n",
       "      <th>651</th>\n",
       "      <td>C:\\Users\\parkm\\Desktop\\github\\analysis_nifti_f...</td>\n",
       "      <td>1760</td>\n",
       "      <td>1759</td>\n",
       "      <td>sub-r052s027</td>\n",
       "    </tr>\n",
       "    <tr>\n",
       "      <th>652</th>\n",
       "      <td>C:\\Users\\parkm\\Desktop\\github\\analysis_nifti_f...</td>\n",
       "      <td>1038</td>\n",
       "      <td>1038</td>\n",
       "      <td>sub-r052s029</td>\n",
       "    </tr>\n",
       "    <tr>\n",
       "      <th>653</th>\n",
       "      <td>C:\\Users\\parkm\\Desktop\\github\\analysis_nifti_f...</td>\n",
       "      <td>23624</td>\n",
       "      <td>23616</td>\n",
       "      <td>sub-r052s031</td>\n",
       "    </tr>\n",
       "    <tr>\n",
       "      <th>654</th>\n",
       "      <td>C:\\Users\\parkm\\Desktop\\github\\analysis_nifti_f...</td>\n",
       "      <td>18825</td>\n",
       "      <td>18825</td>\n",
       "      <td>sub-r052s032</td>\n",
       "    </tr>\n",
       "  </tbody>\n",
       "</table>\n",
       "<p>655 rows × 4 columns</p>\n",
       "</div>"
      ],
      "text/plain": [
       "                                             file_name filled_legion_volume  \\\n",
       "0    C:\\Users\\parkm\\Desktop\\github\\analysis_nifti_f...               112488   \n",
       "1    C:\\Users\\parkm\\Desktop\\github\\analysis_nifti_f...               132613   \n",
       "2    C:\\Users\\parkm\\Desktop\\github\\analysis_nifti_f...                 1482   \n",
       "3    C:\\Users\\parkm\\Desktop\\github\\analysis_nifti_f...                44701   \n",
       "4    C:\\Users\\parkm\\Desktop\\github\\analysis_nifti_f...                31843   \n",
       "..                                                 ...                  ...   \n",
       "650  C:\\Users\\parkm\\Desktop\\github\\analysis_nifti_f...               100200   \n",
       "651  C:\\Users\\parkm\\Desktop\\github\\analysis_nifti_f...                 1760   \n",
       "652  C:\\Users\\parkm\\Desktop\\github\\analysis_nifti_f...                 1038   \n",
       "653  C:\\Users\\parkm\\Desktop\\github\\analysis_nifti_f...                23624   \n",
       "654  C:\\Users\\parkm\\Desktop\\github\\analysis_nifti_f...                18825   \n",
       "\n",
       "    hole_legion_volume       subject  \n",
       "0               112451  sub-r001s001  \n",
       "1               132590  sub-r001s002  \n",
       "2                 1482  sub-r001s003  \n",
       "3                44659  sub-r001s004  \n",
       "4                31792  sub-r001s005  \n",
       "..                 ...           ...  \n",
       "650             100135  sub-r052s026  \n",
       "651               1759  sub-r052s027  \n",
       "652               1038  sub-r052s029  \n",
       "653              23616  sub-r052s031  \n",
       "654              18825  sub-r052s032  \n",
       "\n",
       "[655 rows x 4 columns]"
      ]
     },
     "execution_count": 254,
     "metadata": {},
     "output_type": "execute_result"
    }
   ],
   "source": [
    "df_task2_volume_size"
   ]
  },
  {
   "cell_type": "code",
   "execution_count": null,
   "metadata": {},
   "outputs": [],
   "source": []
  },
  {
   "cell_type": "code",
   "execution_count": 255,
   "metadata": {},
   "outputs": [],
   "source": [
    "df_task2_volume_size.to_csv(\"df_task2_volume_size.csv\", index=False, encoding='utf-8-sig')"
   ]
  },
  {
   "cell_type": "code",
   "execution_count": null,
   "metadata": {},
   "outputs": [],
   "source": []
  }
 ],
 "metadata": {
  "interpreter": {
   "hash": "ad0e9ecde611ae35305dd4ed9aae66f2cfc24eed9b69d21cc1d6de69b29a2e73"
  },
  "kernelspec": {
   "display_name": "miccai",
   "language": "python",
   "name": "miccai"
  },
  "language_info": {
   "codemirror_mode": {
    "name": "ipython",
    "version": 3
   },
   "file_extension": ".py",
   "mimetype": "text/x-python",
   "name": "python",
   "nbconvert_exporter": "python",
   "pygments_lexer": "ipython3",
   "version": "3.8.5"
  }
 },
 "nbformat": 4,
 "nbformat_minor": 4
}
