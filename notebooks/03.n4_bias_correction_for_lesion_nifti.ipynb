{
 "cells": [
  {
   "cell_type": "code",
   "execution_count": 5,
   "id": "97305e28-6f3c-42b4-b302-ef2fd7afc347",
   "metadata": {},
   "outputs": [],
   "source": [
    "import SimpleITK as sitk\n",
    "%matplotlib inline\n",
    "import matplotlib.pyplot as plt\n",
    "from ipywidgets import interact, fixed\n",
    "from IPython.display import clear_output\n",
    "import pprint\n",
    "import os, sys\n",
    "import pandas_profiling\n",
    "import sys\n",
    "import json\n",
    "from scipy import ndimage\n",
    "import nibabel as nib \n",
    "from pathlib import Path\n",
    "sys.path.insert(0, str(Path(r'C:\\Users\\parkm\\Desktop\\github\\analysis_nifti_for_deeplearning\\src\\registration_metric.py').resolve().parent.parent))\n",
    "from src.eda_nifti import *\n",
    "from src.registration_metric import *"
   ]
  },
  {
   "cell_type": "code",
   "execution_count": null,
   "id": "30110a28-b4b2-40d8-88c9-75191e4279a2",
   "metadata": {},
   "outputs": [],
   "source": [
    "nifti_anal =NiftiAnalysis()"
   ]
  },
  {
   "cell_type": "code",
   "execution_count": null,
   "id": "a4e81e8d-14eb-442f-bd24-86407848a463",
   "metadata": {},
   "outputs": [],
   "source": [
    "task1_nifti_files_list = nifti_anal.recursive_find_all_files(r'C:\\Users\\parkm\\Desktop\\github\\analysis_nifti_for_deeplearning\\data\\task1', '.nii.gz')"
   ]
  },
  {
   "cell_type": "code",
   "execution_count": null,
   "id": "21009f90-d7e0-44a9-85b5-f45de4519ac2",
   "metadata": {},
   "outputs": [],
   "source": [
    "raw_path = r'C:\\Users\\parkm\\Desktop\\github\\analysis_nifti_for_deeplearning\\data\\task1\\rawdata\\sub-strokecase0001\\ses-0001\\sub-strokecase0001_ses-0001_dwi.nii.gz'"
   ]
  },
  {
   "cell_type": "code",
   "execution_count": null,
   "id": "00df334d-132f-4b83-8996-27cdf609f66b",
   "metadata": {},
   "outputs": [],
   "source": [
    "mask_path = r'C:\\Users\\parkm\\Desktop\\github\\analysis_nifti_for_deeplearning\\data\\task1\\derivatives\\sub-strokecase0001\\ses-0001\\sub-strokecase0001_ses-0001_msk.nii.gz'"
   ]
  },
  {
   "cell_type": "markdown",
   "id": "2a177bef-3103-4b2e-be83-61f4c35ebd69",
   "metadata": {},
   "source": [
    "# 1. 원본 단면 확인"
   ]
  },
  {
   "cell_type": "code",
   "execution_count": null,
   "id": "1467ecdc-3be2-416d-87be-76cfd556578d",
   "metadata": {},
   "outputs": [],
   "source": [
    "raw_nii = nib.load(raw_path)\n",
    "raw_nii_array = raw_nii.get_fdata()\n",
    "raw_nii_array.shape\n",
    "plt.imshow(raw_nii_array[:,:,49])"
   ]
  },
  {
   "cell_type": "markdown",
   "id": "680a9504-ad30-436e-9af9-05062eb6a8b5",
   "metadata": {},
   "source": [
    "# 2. 원본 + n4 correction 확인"
   ]
  },
  {
   "cell_type": "code",
   "execution_count": null,
   "id": "99f0217e-a881-486a-a1f2-03f5f420c389",
   "metadata": {},
   "outputs": [],
   "source": [
    "input = sitk.ReadImage(raw_path)\n",
    "image = sitk.Cast(input, sitk.sitkFloat32)\n",
    "# print(type(image))\n",
    "correctedImg = sitk.N4BiasFieldCorrection(image)\n",
    "sitk.WriteImage(correctedImg, 'test.nii.gz') # outfile is just string variable or path"
   ]
  },
  {
   "cell_type": "code",
   "execution_count": null,
   "id": "715d93a8-02c5-4aad-9642-4a5b53d4db1c",
   "metadata": {},
   "outputs": [],
   "source": [
    "nii = nib.load('test.nii.gz')\n",
    "nii_array = nii.get_fdata()\n",
    "nii_array.shape"
   ]
  },
  {
   "cell_type": "code",
   "execution_count": null,
   "id": "d092057f-d65e-4b0c-8593-1b448bf55831",
   "metadata": {},
   "outputs": [],
   "source": [
    "plt.imshow(nii_array[:,:,49])"
   ]
  },
  {
   "cell_type": "markdown",
   "id": "17a6bf4f-3e1e-4d7b-a7b1-92526751b4d7",
   "metadata": {},
   "source": [
    "# 3. 원본에서 라벨 마스크 아웃 + n4 correction\n",
    "- antspy로 진행하면 antsimage로 작업하고 바로 저장하면되는데, 리눅스 환경 x, 대충 몇개만 돌려서 확인해보는 용도"
   ]
  },
  {
   "cell_type": "code",
   "execution_count": null,
   "id": "49dc2e69-b7de-4058-b496-f6bbe877ef43",
   "metadata": {},
   "outputs": [],
   "source": [
    "raw_nii = nib.load(raw_path)\n",
    "raw_nii_array = raw_nii.get_fdata()\n",
    "raw_affine = raw_nii.affine"
   ]
  },
  {
   "cell_type": "code",
   "execution_count": null,
   "id": "310c4f96-99c5-431f-bf8a-a2df161fcd6c",
   "metadata": {},
   "outputs": [],
   "source": [
    "mask_nii = nib.load(mask_path)"
   ]
  },
  {
   "cell_type": "code",
   "execution_count": null,
   "id": "d723cd8f-44bc-43e8-b217-91fa1c0c23d3",
   "metadata": {},
   "outputs": [],
   "source": [
    "mask_nii_array = mask_nii.get_fdata()"
   ]
  },
  {
   "cell_type": "code",
   "execution_count": null,
   "id": "e3f1401f-3334-4f0d-80d3-faf15591ccb5",
   "metadata": {},
   "outputs": [],
   "source": [
    "raw_nii_array.shape"
   ]
  },
  {
   "cell_type": "code",
   "execution_count": null,
   "id": "6e8b4aed-b5d2-46f3-b4d1-bf190f462968",
   "metadata": {},
   "outputs": [],
   "source": [
    "mask_nii_array.shape"
   ]
  },
  {
   "cell_type": "code",
   "execution_count": null,
   "id": "e9ccbccc-e283-41dc-9f5d-c5549163cb46",
   "metadata": {},
   "outputs": [],
   "source": [
    "plt.imshow(mask_nii_array[:,:,49])"
   ]
  },
  {
   "cell_type": "code",
   "execution_count": null,
   "id": "4f69dda9-cd77-44b5-a2d0-75f7bd8aeabd",
   "metadata": {},
   "outputs": [],
   "source": [
    "np.unique(np.ravel(raw_nii_array[:,:,49]))"
   ]
  },
  {
   "cell_type": "code",
   "execution_count": null,
   "id": "e9fbbe21-4d5c-4348-a860-2f692e343bea",
   "metadata": {},
   "outputs": [],
   "source": [
    "np.unique(np.ravel(mask_nii_array[:,:,49]))"
   ]
  },
  {
   "cell_type": "code",
   "execution_count": null,
   "id": "04b2a27d-e610-4fc2-8b35-b9559e15e361",
   "metadata": {},
   "outputs": [],
   "source": [
    "raw_max_level_pixel = np.ravel(raw_nii_array).max()"
   ]
  },
  {
   "cell_type": "code",
   "execution_count": null,
   "id": "15874b43-45b2-4d9c-ade1-7ca049750882",
   "metadata": {},
   "outputs": [],
   "source": [
    "mask_out_array = raw_nii_array + (mask_nii_array * raw_max_level_pixel*100)"
   ]
  },
  {
   "cell_type": "code",
   "execution_count": null,
   "id": "9a228f7a-9c3b-449d-8a60-1e8d581cb132",
   "metadata": {},
   "outputs": [],
   "source": []
  },
  {
   "cell_type": "code",
   "execution_count": null,
   "id": "460fe2d6-4a6b-426e-b40d-097c9064b016",
   "metadata": {},
   "outputs": [],
   "source": [
    "mask_out_array[mask_out_array>raw_max_level_pixel+5] = 0"
   ]
  },
  {
   "cell_type": "code",
   "execution_count": null,
   "id": "7199ca27-b86b-40f6-9ef9-33b4c23d9c0f",
   "metadata": {},
   "outputs": [],
   "source": [
    "np.unique(np.ravel(mask_out_array[:,:,49]))"
   ]
  },
  {
   "cell_type": "code",
   "execution_count": null,
   "id": "b1ffb215-c8eb-46f9-990b-023ec8abc774",
   "metadata": {},
   "outputs": [],
   "source": [
    "np.unique(np.ravel(mask_out_array[:,:,49]))"
   ]
  },
  {
   "cell_type": "code",
   "execution_count": null,
   "id": "06d0429d-ab21-4380-a35a-2cbaaddec10c",
   "metadata": {},
   "outputs": [],
   "source": [
    "plt.imshow(mask_out_array[:,:,49])"
   ]
  },
  {
   "cell_type": "code",
   "execution_count": null,
   "id": "53295bec-acd4-4fbf-8afd-dd528c835718",
   "metadata": {},
   "outputs": [],
   "source": [
    "img = nib.Nifti1Image(mask_out_array, raw_affine) \n",
    "img.to_filename('raw_mask_out.nii.gz')"
   ]
  },
  {
   "cell_type": "code",
   "execution_count": null,
   "id": "d9ed66e6-0d68-4927-92c2-99eeaa66aa0c",
   "metadata": {},
   "outputs": [],
   "source": [
    "input = sitk.ReadImage('raw_mask_out.nii.gz')\n",
    "image = sitk.Cast(input, sitk.sitkFloat32)\n",
    "# print(type(image))\n",
    "correctedImg = sitk.N4BiasFieldCorrection(image)\n",
    "sitk.WriteImage(correctedImg, 'n4_raw_mask_out.nii.gz')"
   ]
  },
  {
   "cell_type": "code",
   "execution_count": null,
   "id": "0bba60da-87f5-4f39-b84e-e62ff53c9864",
   "metadata": {},
   "outputs": [],
   "source": []
  },
  {
   "cell_type": "code",
   "execution_count": null,
   "id": "6bb431dc-7b16-42b7-ba67-ce266a21dc5b",
   "metadata": {},
   "outputs": [],
   "source": [
    "## Segmentation된 부분만 확인"
   ]
  },
  {
   "cell_type": "code",
   "execution_count": null,
   "id": "f276da9c-bcf5-4a2d-8152-c902d01a11e1",
   "metadata": {},
   "outputs": [],
   "source": [
    "mask = np.any(mask_nii_array.astype(bool), axis=-1)"
   ]
  },
  {
   "cell_type": "code",
   "execution_count": null,
   "id": "24ef6ea9-4121-467a-aa2a-716882a307df",
   "metadata": {},
   "outputs": [],
   "source": [
    "masked_img = raw_nii_array[:,:,49] * mask_nii_array[:,:,49]"
   ]
  },
  {
   "cell_type": "code",
   "execution_count": null,
   "id": "adcb905b-34ca-4bc0-82c9-110d2c348e59",
   "metadata": {},
   "outputs": [],
   "source": [
    "masked_img"
   ]
  },
  {
   "cell_type": "code",
   "execution_count": null,
   "id": "135caed4-9907-47c5-b75f-ab399e5f4625",
   "metadata": {},
   "outputs": [],
   "source": [
    "plt.imshow(masked_img)"
   ]
  },
  {
   "cell_type": "code",
   "execution_count": null,
   "id": "8d4d5cdb-8b5c-4c95-a43d-fe18f8f626f6",
   "metadata": {},
   "outputs": [],
   "source": [
    "np.unique(np.ravel(masked_img))"
   ]
  },
  {
   "cell_type": "code",
   "execution_count": null,
   "id": "53be64df-95c1-4818-8b4e-b445975b2b3e",
   "metadata": {},
   "outputs": [],
   "source": [
    "plt.imshow(raw_nii_array[:,:,49])"
   ]
  },
  {
   "cell_type": "code",
   "execution_count": null,
   "id": "0a153757-757d-4742-acd9-2da0a0068bcb",
   "metadata": {},
   "outputs": [],
   "source": [
    "plt.imshow(mask_nii_array[:,:,49])"
   ]
  },
  {
   "cell_type": "code",
   "execution_count": null,
   "id": "0aa599ef-5644-43c8-96bd-c85e2b92068b",
   "metadata": {},
   "outputs": [],
   "source": [
    "np.unique(np.ravel(mask_nii_array[:,:,49]))"
   ]
  },
  {
   "cell_type": "code",
   "execution_count": null,
   "id": "07c44885-c1fe-48b5-a4ac-dbcda376bc89",
   "metadata": {},
   "outputs": [],
   "source": []
  },
  {
   "cell_type": "code",
   "execution_count": null,
   "id": "7679a7b0-4b11-46d3-bfac-82c621c12798",
   "metadata": {},
   "outputs": [],
   "source": []
  },
  {
   "cell_type": "code",
   "execution_count": 7,
   "id": "7ebfdf46-b2af-4e19-8e57-d2581f4e9062",
   "metadata": {},
   "outputs": [],
   "source": [
    "def n4_mask_out_n4_correction(input_raw_nifti_path: str, input_mask_nifti_path: str, n4_correction_result_save_path: str) ->np.array:\n",
    "    \n",
    "    raw_nii = nib.load(input_raw_nifti_path)\n",
    "    raw_nii_array = raw_nii.get_fdata()\n",
    "    raw_affine = raw_nii.affine\n",
    "    raw_max_level_pixel = np.ravel(raw_nii_array).max()\n",
    "    \n",
    "    mask_nii = nib.load(input_mask_nifti_path)\n",
    "    mask_nii_array = mask_nii.get_fdata()\n",
    "    assert 1 in mask_nii_array or 0 in mask_nii_array, \"incorrect values in mask array(mask array must be include only 0 or 1)\" \n",
    "    \n",
    "    \n",
    "    mask_out_array = raw_nii_array * (1-mask_nii_array)\n",
    "    \n",
    "    img = nib.Nifti1Image(mask_out_array, raw_affine) \n",
    "    img.to_filename('temp_raw_mask_out.nii.gz')\n",
    "    \n",
    "    input = sitk.ReadImage('temp_raw_mask_out.nii.gz')\n",
    "    image = sitk.Cast(input, sitk.sitkFloat32)\n",
    "    # print(type(image))\n",
    "    n4_correction_on_not_mask_region_only = sitk.N4BiasFieldCorrection(image)\n",
    "    sitk.WriteImage(n4_correction_on_not_mask_region_only, os.path.join(n4_correction_result_save_path,output_raw_nifti_path+'/n4_correction_on_not_mask_region_only.nii.gz'))\n",
    "    \n",
    "    return n4_correction_on_not_mask_region_only"
   ]
  },
  {
   "cell_type": "code",
   "execution_count": 6,
   "id": "7bb86641-7772-489b-9249-c2242d51df06",
   "metadata": {},
   "outputs": [],
   "source": [
    "def n4_mask_out_n4_correction_and_merge_with_lesion(input_raw_nifti_path: str, input_mask_nifti_path: str, n4_correction_result_save_path: str) ->np.array:\n",
    "    \n",
    "    raw_nii = nib.load(input_raw_nifti_path)\n",
    "    raw_nii_array = raw_nii.get_fdata()\n",
    "    raw_affine = raw_nii.affine\n",
    "    raw_max_level_pixel = np.ravel(raw_nii_array).max()\n",
    "    \n",
    "    mask_nii = nib.load(input_mask_nifti_path)\n",
    "    ## 효과가 있다면, 이 부분에서 voxel erosion 추가해서 라벨 근처 확장시켜주면 좋을 것 같습니다.\n",
    "    mask_nii_array = mask_nii.get_fdata()\n",
    "    assert 1 in mask_nii_array or 0 in mask_nii_array, \"incorrect values in mask array(mask array must be include only 0 or 1)\" \n",
    "    \n",
    "    \n",
    "    mask_out_array = raw_nii_array * (1-mask_nii_array)\n",
    "    \n",
    "    img = nib.Nifti1Image(mask_out_array, raw_affine) \n",
    "    img.to_filename('temp_raw_mask_out.nii.gz')\n",
    "    \n",
    "    input = sitk.ReadImage('temp_raw_mask_out.nii.gz')\n",
    "    image = sitk.Cast(input, sitk.sitkFloat32)\n",
    "    # print(type(image))\n",
    "    correctedImg_without_legion = sitk.N4BiasFieldCorrection(image)\n",
    "    \n",
    "    mask_legion_of_raw_data = raw_nii_array * mask_nii_array\n",
    "    n4_correction_on_not_mask_region_only = correctedImg_without_legion + mask_legion_of_raw_data\n",
    "    \n",
    "    sitk.WriteImage(n4_correction_on_not_mask_region_only, os.path.join(n4_correction_result_save_path,output_raw_nifti_path+'/correctedImg_without_legion.nii.gz'))\n",
    "    \n",
    "    \n",
    "    \n",
    "    return correctedImg_without_legion "
   ]
  },
  {
   "cell_type": "code",
   "execution_count": null,
   "id": "e0b16a72-3e57-45bf-9477-e6c67a67b649",
   "metadata": {},
   "outputs": [],
   "source": []
  },
  {
   "cell_type": "code",
   "execution_count": null,
   "id": "9784f7d3-a36c-4730-81c3-668fc5cee11b",
   "metadata": {},
   "outputs": [],
   "source": []
  }
 ],
 "metadata": {
  "kernelspec": {
   "display_name": "miccai",
   "language": "python",
   "name": "miccai"
  },
  "language_info": {
   "codemirror_mode": {
    "name": "ipython",
    "version": 3
   },
   "file_extension": ".py",
   "mimetype": "text/x-python",
   "name": "python",
   "nbconvert_exporter": "python",
   "pygments_lexer": "ipython3",
   "version": "3.8.5"
  }
 },
 "nbformat": 4,
 "nbformat_minor": 5
}
