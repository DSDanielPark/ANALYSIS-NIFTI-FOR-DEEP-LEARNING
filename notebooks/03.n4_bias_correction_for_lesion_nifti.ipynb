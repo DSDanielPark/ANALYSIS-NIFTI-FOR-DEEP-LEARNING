{
 "cells": [
  {
   "cell_type": "code",
   "execution_count": null,
   "id": "3cf80065-73d5-48cd-ba99-2d364eeb28b8",
   "metadata": {},
   "outputs": [],
   "source": []
  },
  {
   "cell_type": "code",
   "execution_count": null,
   "id": "a12dab0c-ecad-4f90-b64b-4a8630b13b23",
   "metadata": {},
   "outputs": [],
   "source": [
    "input = sitk.ReadImage(files[0])\n",
    "image = sitk.Cast(input, sitk.sitkFloat32)\n",
    "# print(type(image))\n",
    "correctedImg = sitk.N4BiasFieldCorrection(image)\n",
    "sitk.WriteImage(correctedImg, outfile) # outfile is just string variable or path"
   ]
  },
  {
   "cell_type": "code",
   "execution_count": null,
   "id": "20cd3781-44dc-4339-8085-1f4bb62b2b5a",
   "metadata": {},
   "outputs": [],
   "source": []
  },
  {
   "cell_type": "code",
   "execution_count": null,
   "id": "be9ea02b-aa60-4ee7-84ae-f630312c9ccf",
   "metadata": {},
   "outputs": [],
   "source": [
    "import SimpleITK as sitk\n",
    "\n",
    "image = sitk.ReadImage(files[0], sitk.sitkFloat32)\n",
    "sitk.Show(image, 'original image')\n",
    "sitk.Show(sitk.N4BiasFieldCorrection(image), 'corrected image')"
   ]
  }
 ],
 "metadata": {
  "kernelspec": {
   "display_name": "miccai",
   "language": "python",
   "name": "miccai"
  },
  "language_info": {
   "codemirror_mode": {
    "name": "ipython",
    "version": 3
   },
   "file_extension": ".py",
   "mimetype": "text/x-python",
   "name": "python",
   "nbconvert_exporter": "python",
   "pygments_lexer": "ipython3",
   "version": "3.8.5"
  }
 },
 "nbformat": 4,
 "nbformat_minor": 5
}
