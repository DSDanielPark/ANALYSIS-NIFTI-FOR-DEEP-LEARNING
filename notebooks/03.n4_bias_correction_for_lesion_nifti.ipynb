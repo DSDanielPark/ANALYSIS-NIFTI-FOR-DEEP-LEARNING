{
 "cells": [
  {
   "cell_type": "code",
   "execution_count": 6,
   "id": "97305e28-6f3c-42b4-b302-ef2fd7afc347",
   "metadata": {},
   "outputs": [],
   "source": [
    "import SimpleITK as sitk\n",
    "%matplotlib inline\n",
    "import matplotlib.pyplot as plt\n",
    "from ipywidgets import interact, fixed\n",
    "from IPython.display import clear_output\n",
    "import pprint\n",
    "import os, sys\n",
    "import pandas_profiling\n",
    "import sys\n",
    "import json\n",
    "from scipy import ndimage\n",
    "import nibabel as nib \n",
    "from pathlib import Path\n",
    "sys.path.insert(0, str(Path(r'C:\\Users\\parkm\\Desktop\\github\\analysis_nifti_for_deeplearning\\src\\registration_metric.pyy').resolve().parent.parent))\n",
    "from src.eda_nifti import *\n",
    "from src.registration_metric import *"
   ]
  },
  {
   "cell_type": "code",
   "execution_count": 8,
   "id": "30110a28-b4b2-40d8-88c9-75191e4279a2",
   "metadata": {},
   "outputs": [],
   "source": [
    "nifti_anal =NiftiAnalysis()"
   ]
  },
  {
   "cell_type": "code",
   "execution_count": 9,
   "id": "a4e81e8d-14eb-442f-bd24-86407848a463",
   "metadata": {},
   "outputs": [],
   "source": [
    "task1_nifti_files_list = nifti_anal.recursive_find_all_files(r'C:\\Users\\parkm\\Desktop\\github\\analysis_nifti_for_deeplearning\\data\\task1', '.nii.gz')"
   ]
  },
  {
   "cell_type": "code",
   "execution_count": null,
   "id": "fb020068-7c7c-4ec9-8c33-2091f76648ed",
   "metadata": {},
   "outputs": [],
   "source": []
  },
  {
   "cell_type": "code",
   "execution_count": null,
   "id": "21009f90-d7e0-44a9-85b5-f45de4519ac2",
   "metadata": {},
   "outputs": [],
   "source": []
  },
  {
   "cell_type": "code",
   "execution_count": null,
   "id": "00df334d-132f-4b83-8996-27cdf609f66b",
   "metadata": {},
   "outputs": [],
   "source": []
  },
  {
   "cell_type": "code",
   "execution_count": null,
   "id": "a37fafe3-3d29-4d10-8b5f-c3df4eef33ed",
   "metadata": {},
   "outputs": [],
   "source": []
  },
  {
   "cell_type": "code",
   "execution_count": 3,
   "id": "a12dab0c-ecad-4f90-b64b-4a8630b13b23",
   "metadata": {},
   "outputs": [
    {
     "ename": "NameError",
     "evalue": "name 'files' is not defined",
     "output_type": "error",
     "traceback": [
      "\u001b[1;31m---------------------------------------------------------------------------\u001b[0m",
      "\u001b[1;31mNameError\u001b[0m                                 Traceback (most recent call last)",
      "Input \u001b[1;32mIn [3]\u001b[0m, in \u001b[0;36m<cell line: 1>\u001b[1;34m()\u001b[0m\n\u001b[1;32m----> 1\u001b[0m \u001b[38;5;28minput\u001b[39m \u001b[38;5;241m=\u001b[39m sitk\u001b[38;5;241m.\u001b[39mReadImage(\u001b[43mfiles\u001b[49m[\u001b[38;5;241m0\u001b[39m])\n\u001b[0;32m      2\u001b[0m image \u001b[38;5;241m=\u001b[39m sitk\u001b[38;5;241m.\u001b[39mCast(\u001b[38;5;28minput\u001b[39m, sitk\u001b[38;5;241m.\u001b[39msitkFloat32)\n\u001b[0;32m      3\u001b[0m \u001b[38;5;66;03m# print(type(image))\u001b[39;00m\n",
      "\u001b[1;31mNameError\u001b[0m: name 'files' is not defined"
     ]
    }
   ],
   "source": [
    "input = sitk.ReadImage(files[0])\n",
    "image = sitk.Cast(input, sitk.sitkFloat32)\n",
    "# print(type(image))\n",
    "\n",
    "\n",
    "correctedImg = sitk.N4BiasFieldCorrection(image)\n",
    "sitk.WriteImage(correctedImg, outfile) # outfile is just string variable or path"
   ]
  },
  {
   "cell_type": "code",
   "execution_count": null,
   "id": "62948ab2-0bbd-4d04-843f-b306bcf7b06c",
   "metadata": {},
   "outputs": [],
   "source": []
  },
  {
   "cell_type": "code",
   "execution_count": null,
   "id": "0ab87ee5-305b-46fa-806b-36f27fbc3f50",
   "metadata": {},
   "outputs": [],
   "source": []
  },
  {
   "cell_type": "code",
   "execution_count": null,
   "id": "7bb86641-7772-489b-9249-c2242d51df06",
   "metadata": {},
   "outputs": [],
   "source": []
  },
  {
   "cell_type": "code",
   "execution_count": null,
   "id": "101c6e69-906c-492e-a838-b430c6ae4e6a",
   "metadata": {},
   "outputs": [],
   "source": []
  },
  {
   "cell_type": "code",
   "execution_count": null,
   "id": "c4aff391-6b82-44fe-bb52-122f4df49997",
   "metadata": {},
   "outputs": [],
   "source": [
    "bias_field_full_resolution = sitk.Exp(corrector.GetLogBiasFieldAsImage(biased_image_full_resolution))"
   ]
  },
  {
   "cell_type": "code",
   "execution_count": null,
   "id": "595072a0-1112-4236-a621-c1cef7191caf",
   "metadata": {},
   "outputs": [],
   "source": [
    "bias_field_full_resolution = sitk.Exp(corrector.GetLogBiasFieldAsImage(biased_image_full_resolution))\n",
    "corrected_image_full_resolution = biased_image_full_resolution / bias_field_full_resolution"
   ]
  }
 ],
 "metadata": {
  "kernelspec": {
   "display_name": "miccai",
   "language": "python",
   "name": "miccai"
  },
  "language_info": {
   "codemirror_mode": {
    "name": "ipython",
    "version": 3
   },
   "file_extension": ".py",
   "mimetype": "text/x-python",
   "name": "python",
   "nbconvert_exporter": "python",
   "pygments_lexer": "ipython3",
   "version": "3.8.5"
  }
 },
 "nbformat": 4,
 "nbformat_minor": 5
}
