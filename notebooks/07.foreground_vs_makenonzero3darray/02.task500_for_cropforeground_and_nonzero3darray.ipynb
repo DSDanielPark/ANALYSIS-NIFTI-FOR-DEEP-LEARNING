{
 "cells": [
  {
   "cell_type": "code",
   "execution_count": 1,
   "metadata": {},
   "outputs": [],
   "source": [
    "import sys\n",
    "from pathlib import Path\n",
    "sys.path.insert(0, str(Path(r'C:\\Users\\parkm\\Desktop\\github\\analysis_nifti_for_deeplearning\\src\\preprocessing.py').resolve().parent.parent))"
   ]
  },
  {
   "cell_type": "code",
   "execution_count": 22,
   "metadata": {},
   "outputs": [],
   "source": [
    "nonzero3darray_folder_path = r'C:\\Users\\parkm\\Desktop\\miccai-stroke-2022\\reference_repo\\ATLAS2022-UNETR\\data\\NonZero3darray\\imagesTr'"
   ]
  },
  {
   "cell_type": "code",
   "execution_count": 3,
   "metadata": {},
   "outputs": [],
   "source": [
    "import os\n",
    "import glob\n",
    "import numpy as np\n",
    "import nibabel as nib "
   ]
  },
  {
   "cell_type": "code",
   "execution_count": 23,
   "metadata": {},
   "outputs": [],
   "source": [
    "def recursive_find_all_files(top_folder_path:str, file_format:str) -> list:\n",
    "    gathered_file_pathes = []\n",
    "\n",
    "    for (root, directories, files) in os.walk(top_folder_path):\n",
    "        for file in files:\n",
    "            if file_format in file:\n",
    "                file_path = os.path.join(root, file)\n",
    "                gathered_file_pathes.append(file_path)\n",
    "\n",
    "    return gathered_file_pathes"
   ]
  },
  {
   "cell_type": "code",
   "execution_count": 24,
   "metadata": {},
   "outputs": [],
   "source": [
    "nonzero3darray_file_list = recursive_find_all_files(nonzero3darray_folder_path, '.nii.gz')"
   ]
  },
  {
   "cell_type": "code",
   "execution_count": 6,
   "metadata": {},
   "outputs": [],
   "source": [
    "x_min_list, x_max_list, y_min_list, y_max_list, z_min_list, z_max_list = [],[],[],[],[],[]"
   ]
  },
  {
   "cell_type": "markdown",
   "metadata": {},
   "source": [
    "### 1. 전체 데이터셋의 nozero 영역 확인해서 각 축별 최대,최소값 찾기"
   ]
  },
  {
   "cell_type": "code",
   "execution_count": 7,
   "metadata": {},
   "outputs": [],
   "source": [
    "def get_nonzero3darray_shape(nifti_file_path: str) -> int:\n",
    "    \n",
    "    file_name = nifti_file_path.split('\\\\')[-1].rstrip('nii.gz')\n",
    "    \n",
    "    nii = nib.load(nifti_file_path)\n",
    "    nii_array = nii.get_fdata()\n",
    "    original_affine = nii.affine\n",
    "    \n",
    "    non_zeros = np.nonzero(nii_array>2)\n",
    "\n",
    "    x_min = non_zeros[0].min()\n",
    "    x_max = non_zeros[0].max()\n",
    "\n",
    "    y_min = non_zeros[1].min()\n",
    "    y_max = non_zeros[1].max()\n",
    "\n",
    "    z_min = non_zeros[2].min()\n",
    "    z_max = non_zeros[2].max()\n",
    "    \n",
    "    \n",
    "    return x_min, x_max, y_min, y_max, z_min, z_max\n"
   ]
  },
  {
   "cell_type": "code",
   "execution_count": 8,
   "metadata": {},
   "outputs": [],
   "source": [
    "for nonzero3darray_file in nonzero3darray_file_list:\n",
    "    x_min, x_max, y_min, y_max, z_min, z_max = get_nonzero3darray_shape(nonzero3darray_file)\n",
    "\n",
    "    x_min_list.append(x_min) \n",
    "    x_max_list.append(x_max)\n",
    "    y_min_list.append(y_min) \n",
    "    y_max_list.append(y_max)\n",
    "    z_min_list.append(z_min) \n",
    "    z_max_list.append(z_max) \n"
   ]
  },
  {
   "cell_type": "code",
   "execution_count": 14,
   "metadata": {},
   "outputs": [
    {
     "data": {
      "text/plain": [
       "20"
      ]
     },
     "execution_count": 14,
     "metadata": {},
     "output_type": "execute_result"
    }
   ],
   "source": [
    "min(x_min_list)"
   ]
  },
  {
   "cell_type": "code",
   "execution_count": 13,
   "metadata": {},
   "outputs": [
    {
     "data": {
      "text/plain": [
       "176"
      ]
     },
     "execution_count": 13,
     "metadata": {},
     "output_type": "execute_result"
    }
   ],
   "source": [
    "max(x_max_list)"
   ]
  },
  {
   "cell_type": "code",
   "execution_count": 16,
   "metadata": {},
   "outputs": [
    {
     "data": {
      "text/plain": [
       "18"
      ]
     },
     "execution_count": 16,
     "metadata": {},
     "output_type": "execute_result"
    }
   ],
   "source": [
    "min(y_min_list)"
   ]
  },
  {
   "cell_type": "code",
   "execution_count": 17,
   "metadata": {},
   "outputs": [
    {
     "data": {
      "text/plain": [
       "212"
      ]
     },
     "execution_count": 17,
     "metadata": {},
     "output_type": "execute_result"
    }
   ],
   "source": [
    "max(y_max_list)"
   ]
  },
  {
   "cell_type": "code",
   "execution_count": 18,
   "metadata": {},
   "outputs": [
    {
     "data": {
      "text/plain": [
       "0"
      ]
     },
     "execution_count": 18,
     "metadata": {},
     "output_type": "execute_result"
    }
   ],
   "source": [
    "min(z_min_list)"
   ]
  },
  {
   "cell_type": "code",
   "execution_count": 19,
   "metadata": {},
   "outputs": [
    {
     "data": {
      "text/plain": [
       "167"
      ]
     },
     "execution_count": 19,
     "metadata": {},
     "output_type": "execute_result"
    }
   ],
   "source": [
    "max(z_max_list)"
   ]
  },
  {
   "cell_type": "markdown",
   "metadata": {},
   "source": [
    "### 2. 코호트의 nonzero 영역을 특정하고, 2를 마진으로 줘서, 전체 데이터셋 크롭 (원본 nifti)"
   ]
  },
  {
   "cell_type": "code",
   "execution_count": 20,
   "metadata": {},
   "outputs": [],
   "source": [
    "def get_hardcrop(nifti_file_path, save_path, x_min, x_max, y_min, y_max, z_min, z_max):\n",
    "    file_name = nifti_file_path.split('\\\\')[-1].rstrip('nii.gz')\n",
    "    \n",
    "    nii = nib.load(nifti_file_path)\n",
    "    nii_array = nii.get_fdata()\n",
    "    nii_array = nii_array[x_min:x_max, y_min:y_max, z_min:z_max]\n",
    "    original_affine = nii.affine\n",
    "        \n",
    "        \n",
    "    img = nib.Nifti1Image(nii_array, original_affine) \n",
    "    img.to_filename(f'{save_path}/{file_name}.nii.gz')\n",
    "\n",
    "    return None"
   ]
  },
  {
   "cell_type": "code",
   "execution_count": 25,
   "metadata": {},
   "outputs": [],
   "source": [
    "for nonzero3darray_file in nonzero3darray_file_list:\n",
    "    \n",
    "    get_hardcrop(nonzero3darray_file, nonzero3darray_folder_path, 18, 178, 16, 214, 0, 169)"
   ]
  },
  {
   "cell_type": "code",
   "execution_count": null,
   "metadata": {},
   "outputs": [],
   "source": [
    "## 잘 크롭됐는지 확인해보기"
   ]
  },
  {
   "cell_type": "code",
   "execution_count": 31,
   "metadata": {},
   "outputs": [],
   "source": [
    "nii = nib.load(nonzero3darray_file_list[0])\n",
    "nii_array = nii.get_fdata()"
   ]
  },
  {
   "cell_type": "code",
   "execution_count": 32,
   "metadata": {},
   "outputs": [
    {
     "data": {
      "text/plain": [
       "(160, 198, 169)"
      ]
     },
     "execution_count": 32,
     "metadata": {},
     "output_type": "execute_result"
    }
   ],
   "source": [
    "nii_array.shape"
   ]
  },
  {
   "cell_type": "code",
   "execution_count": 33,
   "metadata": {},
   "outputs": [],
   "source": [
    "## 정상적으로 잘 크롭되었음 (178-18, 214-16, 169-0)"
   ]
  },
  {
   "cell_type": "markdown",
   "metadata": {},
   "source": [
    "### 3. 코호트의 nonzero 영역을 특정하고, 2를 마진으로 줘서, 전체 데이터셋 크롭 (mask nifti)"
   ]
  },
  {
   "cell_type": "code",
   "execution_count": 39,
   "metadata": {},
   "outputs": [],
   "source": [
    "nonzero3darray_folder_path = r'C:\\Users\\parkm\\Desktop\\miccai-stroke-2022\\reference_repo\\ATLAS2022-UNETR\\data\\NonZero3darray\\labelsTr'"
   ]
  },
  {
   "cell_type": "code",
   "execution_count": 40,
   "metadata": {},
   "outputs": [],
   "source": [
    "nonzero3darray_file_list = recursive_find_all_files(nonzero3darray_folder_path, '.nii.gz')"
   ]
  },
  {
   "cell_type": "code",
   "execution_count": 41,
   "metadata": {},
   "outputs": [],
   "source": [
    "for nonzero3darray_file in nonzero3darray_file_list:\n",
    "    \n",
    "    get_hardcrop(nonzero3darray_file, nonzero3darray_folder_path, 18, 178, 16, 214, 0, 169)"
   ]
  },
  {
   "cell_type": "code",
   "execution_count": null,
   "metadata": {},
   "outputs": [],
   "source": []
  }
 ],
 "metadata": {
  "kernelspec": {
   "display_name": "miccai",
   "language": "python",
   "name": "miccai"
  },
  "language_info": {
   "codemirror_mode": {
    "name": "ipython",
    "version": 3
   },
   "file_extension": ".py",
   "mimetype": "text/x-python",
   "name": "python",
   "nbconvert_exporter": "python",
   "pygments_lexer": "ipython3",
   "version": "3.8.5"
  },
  "vscode": {
   "interpreter": {
    "hash": "ad0e9ecde611ae35305dd4ed9aae66f2cfc24eed9b69d21cc1d6de69b29a2e73"
   }
  }
 },
 "nbformat": 4,
 "nbformat_minor": 4
}
