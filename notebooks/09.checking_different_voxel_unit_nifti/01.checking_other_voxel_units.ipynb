{
 "cells": [
  {
   "cell_type": "code",
   "execution_count": 2,
   "id": "9bcb8c28-fc9a-4787-b2c0-32f0214239a0",
   "metadata": {},
   "outputs": [],
   "source": [
    "import sys\n",
    "from pathlib import Path\n",
    "sys.path.insert(0, str(Path(r'C:\\Users\\parkm\\Desktop\\github\\analysis_nifti_for_deeplearning\\src\\preprocessing.py').resolve().parent.parent))"
   ]
  },
  {
   "cell_type": "markdown",
   "id": "340601bb-6056-4fee-adbb-beb11d47a784",
   "metadata": {},
   "source": [
    "# voxel 유닛이 다른 nifti 파일안에 있는 array들 체크해보기"
   ]
  },
  {
   "cell_type": "code",
   "execution_count": 6,
   "id": "868acdfe-19a4-42dd-9ba5-603fb4456dab",
   "metadata": {},
   "outputs": [],
   "source": [
    "flair_nifti = r'C:\\Users\\parkm\\Desktop\\github\\ANALYSIS-NIFTI-FOR-DEEP-LEARNING\\data\\task1.stroke_multimodal\\dataset-ISLES22^public^unzipped^version\\rawdata\\sub-strokecase0110\\ses-0001\\sub-strokecase0110_ses-0001_flair.nii.gz'\n",
    "adc_nii = r'C:\\Users\\parkm\\Desktop\\github\\ANALYSIS-NIFTI-FOR-DEEP-LEARNING\\data\\task1.stroke_multimodal\\dataset-ISLES22^public^unzipped^version\\rawdata\\sub-strokecase0111\\ses-0001\\sub-strokecase0111_ses-0001_adc.nii.gz'\n"
   ]
  },
  {
   "cell_type": "code",
   "execution_count": null,
   "id": "70fa59c0-a731-4a0c-9684-279e99070cbe",
   "metadata": {},
   "outputs": [],
   "source": []
  }
 ],
 "metadata": {
  "kernelspec": {
   "display_name": "miccai",
   "language": "python",
   "name": "miccai"
  },
  "language_info": {
   "codemirror_mode": {
    "name": "ipython",
    "version": 3
   },
   "file_extension": ".py",
   "mimetype": "text/x-python",
   "name": "python",
   "nbconvert_exporter": "python",
   "pygments_lexer": "ipython3",
   "version": "3.8.5"
  }
 },
 "nbformat": 4,
 "nbformat_minor": 5
}
