{
 "cells": [
  {
   "cell_type": "code",
   "execution_count": 1,
   "id": "81dcccce-55be-4ff0-b578-c9b9239b22df",
   "metadata": {},
   "outputs": [],
   "source": [
    "import numpy as np\n",
    "from scipy import ndimage\n",
    "import os\n",
    "\n",
    "import nibabel as nib "
   ]
  },
  {
   "cell_type": "code",
   "execution_count": 2,
   "id": "c5442661-db8e-4048-8416-dff3cd8b0416",
   "metadata": {},
   "outputs": [],
   "source": [
    "def recursive_glob_files(top_folder_path, file_format):\n",
    "    gathered_file_pathes = []\n",
    "\n",
    "    for (root, directories, files) in os.walk(top_folder_path):\n",
    "        for file in files:\n",
    "            if file_format in file:\n",
    "                detect_file_path = os.path.join(root, file)\n",
    "                gathered_file_pathes.append(detect_file_path)\n",
    "\n",
    "    return gathered_file_pathes\n"
   ]
  },
  {
   "cell_type": "code",
   "execution_count": 3,
   "id": "b32d4182-0178-4f6a-a54e-59ee494d82a1",
   "metadata": {},
   "outputs": [
    {
     "data": {
      "text/plain": [
       "array([[0, 0, 0, 0, 0],\n",
       "       [0, 1, 1, 1, 0],\n",
       "       [0, 1, 0, 1, 0],\n",
       "       [0, 1, 1, 1, 0],\n",
       "       [0, 0, 0, 0, 0]])"
      ]
     },
     "execution_count": 3,
     "metadata": {},
     "output_type": "execute_result"
    }
   ],
   "source": [
    "a = np.zeros((5, 5), dtype=int)\n",
    "a[1:4, 1:4] = 1\n",
    "a[2,2] = 0\n",
    "a"
   ]
  },
  {
   "cell_type": "code",
   "execution_count": 4,
   "id": "4e4a3077-7163-4ace-96fa-32d28ef3b6e9",
   "metadata": {},
   "outputs": [],
   "source": [
    "task2_train_data_path = r'C:\\Users\\parkm\\Desktop\\github\\analysis_nifti_for_deeplearning\\data\\task2\\Training'\n",
    "\n",
    "task2_train_data_path_list =  recursive_glob_files(task2_train_data_path, '.nii.gz')\n",
    "\n",
    "task2_train_mask_data_path_list = [x for x in task2_train_data_path_list if x.endswith('mask.nii.gz')]"
   ]
  },
  {
   "cell_type": "code",
   "execution_count": 5,
   "id": "7b519639-0883-4978-8d21-ef30de4160e3",
   "metadata": {},
   "outputs": [
    {
     "data": {
      "text/plain": [
       "'C:\\\\Users\\\\parkm\\\\Desktop\\\\github\\\\analysis_nifti_for_deeplearning\\\\data\\\\task2\\\\Training\\\\R001\\\\sub-r001s001\\\\ses-1\\\\anat\\\\sub-r001s001_ses-1_space-MNI152NLin2009aSym_label-L_desc-T1lesion_mask.nii.gz'"
      ]
     },
     "execution_count": 5,
     "metadata": {},
     "output_type": "execute_result"
    }
   ],
   "source": [
    "ndimage.binary_fill_holes(a).astype(int)\n",
    "\n",
    "ndimage.binary_fill_holes(a, structure=np.ones((5,5))).astype(int)\n",
    "\n",
    "task2_train_mask_data_path_list[0]"
   ]
  },
  {
   "cell_type": "code",
   "execution_count": 6,
   "id": "5e33e87a-2e0b-42ef-a411-30e23fa69bc6",
   "metadata": {},
   "outputs": [],
   "source": [
    "img = nib.load(task2_train_mask_data_path_list[0])\n",
    "nifti_arr = img.get_fdata()"
   ]
  },
  {
   "cell_type": "code",
   "execution_count": 7,
   "id": "4a32b53f-6134-4968-8d8d-310c01a3ef24",
   "metadata": {},
   "outputs": [
    {
     "data": {
      "text/plain": [
       "112451"
      ]
     },
     "execution_count": 7,
     "metadata": {},
     "output_type": "execute_result"
    }
   ],
   "source": [
    "np.count_nonzero(nifti_arr)"
   ]
  },
  {
   "cell_type": "code",
   "execution_count": 8,
   "id": "0eab21ed-daff-40b6-8228-90570e60ce69",
   "metadata": {},
   "outputs": [
    {
     "data": {
      "text/plain": [
       "112488"
      ]
     },
     "execution_count": 8,
     "metadata": {},
     "output_type": "execute_result"
    }
   ],
   "source": [
    "np.count_nonzero(ndimage.binary_fill_holes(nifti_arr).astype(int))"
   ]
  },
  {
   "cell_type": "code",
   "execution_count": 9,
   "id": "7e3e5356-046f-405f-b1fd-50cbe8c6a479",
   "metadata": {},
   "outputs": [
    {
     "data": {
      "text/plain": [
       "(197, 233, 189)"
      ]
     },
     "execution_count": 9,
     "metadata": {},
     "output_type": "execute_result"
    }
   ],
   "source": [
    "nifti_arr.shape"
   ]
  },
  {
   "cell_type": "code",
   "execution_count": 10,
   "id": "a87d2848-8f8d-4b29-b22a-49002afa31e4",
   "metadata": {},
   "outputs": [
    {
     "data": {
      "text/plain": [
       "(197, 233)"
      ]
     },
     "execution_count": 10,
     "metadata": {},
     "output_type": "execute_result"
    }
   ],
   "source": [
    "nifti_arr[:,:,0].shape"
   ]
  },
  {
   "cell_type": "code",
   "execution_count": 11,
   "id": "1aa8b667-9427-44f5-8ca6-bacb5406d27f",
   "metadata": {},
   "outputs": [],
   "source": [
    "single_axis_arr = nifti_arr[:,:,90]"
   ]
  },
  {
   "cell_type": "code",
   "execution_count": 12,
   "id": "77328608-cbca-4c63-abbb-4114bd6bb013",
   "metadata": {},
   "outputs": [],
   "source": [
    "single_axis_binary_fill_holes_arr = ndimage.binary_fill_holes(nifti_arr[:,:,90], structure=np.ones((197, 233)).astype(int))"
   ]
  },
  {
   "cell_type": "code",
   "execution_count": 13,
   "id": "170793a7-86cf-4364-96aa-b97b5a9f9593",
   "metadata": {},
   "outputs": [
    {
     "data": {
      "text/plain": [
       "2066"
      ]
     },
     "execution_count": 13,
     "metadata": {},
     "output_type": "execute_result"
    }
   ],
   "source": [
    "np.count_nonzero(single_axis_arr)"
   ]
  },
  {
   "cell_type": "code",
   "execution_count": 14,
   "id": "676df69b-c9e9-4fc6-986d-84f4ade5c397",
   "metadata": {},
   "outputs": [
    {
     "data": {
      "text/plain": [
       "2066"
      ]
     },
     "execution_count": 14,
     "metadata": {},
     "output_type": "execute_result"
    }
   ],
   "source": [
    "np.count_nonzero(single_axis_binary_fill_holes_arr)"
   ]
  },
  {
   "cell_type": "code",
   "execution_count": 15,
   "id": "e7b948a5-859c-4310-8e79-0a5c14ae3dd7",
   "metadata": {},
   "outputs": [
    {
     "data": {
      "text/plain": [
       "45901"
      ]
     },
     "execution_count": 15,
     "metadata": {},
     "output_type": "execute_result"
    }
   ],
   "source": [
    "np.count_nonzero(single_axis_arr == single_axis_binary_fill_holes_arr)"
   ]
  },
  {
   "cell_type": "code",
   "execution_count": null,
   "id": "560694cb-035b-40f7-8996-c45d4db5f0b4",
   "metadata": {},
   "outputs": [],
   "source": []
  },
  {
   "cell_type": "code",
   "execution_count": null,
   "id": "bbb32437-f5a4-4011-a85c-dae560a25d6d",
   "metadata": {},
   "outputs": [],
   "source": []
  }
 ],
 "metadata": {
  "kernelspec": {
   "display_name": "miccai",
   "language": "python",
   "name": "miccai"
  },
  "language_info": {
   "codemirror_mode": {
    "name": "ipython",
    "version": 3
   },
   "file_extension": ".py",
   "mimetype": "text/x-python",
   "name": "python",
   "nbconvert_exporter": "python",
   "pygments_lexer": "ipython3",
   "version": "3.8.5"
  }
 },
 "nbformat": 4,
 "nbformat_minor": 5
}
