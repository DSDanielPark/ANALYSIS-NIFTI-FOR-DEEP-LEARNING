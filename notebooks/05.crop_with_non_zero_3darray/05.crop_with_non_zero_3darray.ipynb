{
 "cells": [
  {
   "cell_type": "code",
   "execution_count": 1,
   "id": "e2251ad0-37b6-4442-a6e1-ff5642c5066a",
   "metadata": {},
   "outputs": [],
   "source": [
    "import numpy as np\n",
    "from scipy import ndimage\n",
    "import os\n",
    "\n",
    "import nibabel as nib "
   ]
  },
  {
   "cell_type": "code",
   "execution_count": 2,
   "id": "068b7292-8e77-4019-a68b-4a462ef7f91c",
   "metadata": {},
   "outputs": [],
   "source": [
    "def recursive_glob_files(top_folder_path, file_format):\n",
    "    gathered_file_pathes = []\n",
    "\n",
    "    for (root, directories, files) in os.walk(top_folder_path):\n",
    "        for file in files:\n",
    "            if file_format in file:\n",
    "                detect_file_path = os.path.join(root, file)\n",
    "                gathered_file_pathes.append(detect_file_path)\n",
    "\n",
    "    return gathered_file_pathes\n"
   ]
  },
  {
   "cell_type": "code",
   "execution_count": 3,
   "id": "78c2ee01-b4cc-4a33-a79d-e5bfaf9c6a9b",
   "metadata": {},
   "outputs": [],
   "source": [
    "task2_train_data_path = r'C:\\Users\\parkm\\Desktop\\github\\analysis_nifti_for_deeplearning\\data\\task2\\Training'\n",
    "\n",
    "task2_train_data_path_list =  recursive_glob_files(task2_train_data_path, '.nii.gz')\n",
    "\n",
    "task2_train_mask_data_path_list = [x for x in task2_train_data_path_list if x.endswith('mask.nii.gz')]"
   ]
  },
  {
   "cell_type": "code",
   "execution_count": 4,
   "id": "fd0375cf-db05-45ae-ab1e-fb48b2f672f2",
   "metadata": {},
   "outputs": [],
   "source": [
    "import SimpleITK as sitk"
   ]
  },
  {
   "cell_type": "code",
   "execution_count": 5,
   "id": "765caa06-d82c-4e88-a881-20cb9a22b635",
   "metadata": {},
   "outputs": [
    {
     "data": {
      "text/plain": [
       "'C:\\\\Users\\\\parkm\\\\Desktop\\\\github\\\\analysis_nifti_for_deeplearning\\\\data\\\\task2\\\\Training\\\\R001\\\\sub-r001s001\\\\ses-1\\\\anat\\\\sub-r001s001_ses-1_space-MNI152NLin2009aSym_label-L_desc-T1lesion_mask.nii.gz'"
      ]
     },
     "execution_count": 5,
     "metadata": {},
     "output_type": "execute_result"
    }
   ],
   "source": [
    "task2_train_data_path_list[0]"
   ]
  },
  {
   "cell_type": "markdown",
   "id": "a4e63e18-b1c3-419e-b04a-3e65f27be5b6",
   "metadata": {},
   "source": [
    "### 1. non-zero로 3d array의 non-zero 좌표 가져와서 확인하기\n",
    "- background cleansing, skull stripping이 잘되어서 배경이 모두 0로 잘 정리되었을 경우에 사용가능"
   ]
  },
  {
   "cell_type": "code",
   "execution_count": 6,
   "id": "49e58aee-2c61-4eca-8179-50448a12d433",
   "metadata": {},
   "outputs": [],
   "source": [
    "raw_nii = nib.load(task2_train_data_path_list[0])\n",
    "raw_nii_array = raw_nii.get_fdata()\n",
    "raw_affine = raw_nii.affine"
   ]
  },
  {
   "cell_type": "code",
   "execution_count": 7,
   "id": "a0197000-c3a4-4c09-b1fa-5977367bc43d",
   "metadata": {},
   "outputs": [
    {
     "data": {
      "text/plain": [
       "(197, 233, 189)"
      ]
     },
     "execution_count": 7,
     "metadata": {},
     "output_type": "execute_result"
    }
   ],
   "source": [
    "raw_nii_array.shape"
   ]
  },
  {
   "cell_type": "code",
   "execution_count": 8,
   "id": "8fc4acd2-68e4-4bd6-9635-c3af309623ab",
   "metadata": {},
   "outputs": [],
   "source": [
    "non_zeros = np.nonzero(raw_nii_array)"
   ]
  },
  {
   "cell_type": "code",
   "execution_count": 9,
   "id": "ebc72735-aec7-4f54-b8d4-fff653ca633d",
   "metadata": {},
   "outputs": [
    {
     "data": {
      "text/plain": [
       "(array([ 70,  70,  70, ..., 166, 166, 166], dtype=int64),\n",
       " array([133, 134, 134, ..., 125, 126, 126], dtype=int64),\n",
       " array([62, 60, 61, ..., 96, 95, 96], dtype=int64))"
      ]
     },
     "execution_count": 9,
     "metadata": {},
     "output_type": "execute_result"
    }
   ],
   "source": [
    "non_zeros"
   ]
  },
  {
   "cell_type": "code",
   "execution_count": 10,
   "id": "a535231c-00a2-49e3-a842-90b21c8b29e2",
   "metadata": {},
   "outputs": [],
   "source": [
    "x_min = non_zeros[0].min()\n",
    "x_max = non_zeros[0].max()\n",
    "\n",
    "y_min = non_zeros[1].min()\n",
    "y_max = non_zeros[1].max()\n",
    "\n",
    "z_min = non_zeros[2].min()\n",
    "z_max = non_zeros[2].max()"
   ]
  },
  {
   "cell_type": "code",
   "execution_count": 11,
   "id": "b23e00da-1c77-4812-9fd9-b26cf3f2a4c4",
   "metadata": {},
   "outputs": [],
   "source": [
    "xmin_list, xmax_list, ymin_list, ymax_list, zmin_list, zmax_list = [],[],[],[],[],[]\n",
    "\n",
    "\n",
    "for i in range(50):\n",
    "    raw_nii = nib.load(task2_train_data_path_list[i])\n",
    "    raw_nii_array = raw_nii.get_fdata()\n",
    "    non_zeros = np.nonzero(raw_nii_array)\n",
    "\n",
    "    x_min = non_zeros[0].min()\n",
    "    x_max = non_zeros[0].max()\n",
    "\n",
    "    y_min = non_zeros[1].min()\n",
    "    y_max = non_zeros[1].max()\n",
    "\n",
    "    z_min = non_zeros[2].min()\n",
    "    z_max = non_zeros[2].max()\n",
    "    \n",
    "    xmin_list.append(x_min)\n",
    "    xmax_list.append(x_max)\n",
    "    \n",
    "    ymin_list.append(y_min)\n",
    "    ymax_list.append(y_max)\n",
    "    \n",
    "    zmin_list.append(z_min)\n",
    "    zmax_list.append(z_max)"
   ]
  },
  {
   "cell_type": "code",
   "execution_count": 12,
   "id": "cda4c713-23f7-40e1-9546-06ca3d68d31d",
   "metadata": {},
   "outputs": [
    {
     "data": {
      "text/plain": [
       "[70,\n",
       " 0,\n",
       " 69,\n",
       " 0,\n",
       " 73,\n",
       " 0,\n",
       " 60,\n",
       " 0,\n",
       " 53,\n",
       " 0,\n",
       " 60,\n",
       " 0,\n",
       " 110,\n",
       " 0,\n",
       " 61,\n",
       " 0,\n",
       " 116,\n",
       " 0,\n",
       " 118,\n",
       " 0,\n",
       " 121,\n",
       " 0,\n",
       " 61,\n",
       " 0,\n",
       " 55,\n",
       " 0,\n",
       " 60,\n",
       " 0,\n",
       " 62,\n",
       " 0,\n",
       " 61,\n",
       " 0,\n",
       " 60,\n",
       " 0,\n",
       " 65,\n",
       " 0,\n",
       " 67,\n",
       " 0,\n",
       " 102,\n",
       " 0,\n",
       " 61,\n",
       " 0,\n",
       " 99,\n",
       " 0,\n",
       " 89,\n",
       " 0,\n",
       " 114,\n",
       " 0,\n",
       " 115,\n",
       " 0]"
      ]
     },
     "execution_count": 12,
     "metadata": {},
     "output_type": "execute_result"
    }
   ],
   "source": [
    "xmin_list\n"
   ]
  },
  {
   "cell_type": "code",
   "execution_count": 13,
   "id": "ee141252-307f-40f5-ba27-e2fda86ad3ec",
   "metadata": {},
   "outputs": [
    {
     "data": {
      "text/plain": [
       "[166,\n",
       " 196,\n",
       " 171,\n",
       " 196,\n",
       " 123,\n",
       " 196,\n",
       " 156,\n",
       " 196,\n",
       " 83,\n",
       " 196,\n",
       " 131,\n",
       " 196,\n",
       " 131,\n",
       " 196,\n",
       " 140,\n",
       " 196,\n",
       " 170,\n",
       " 196,\n",
       " 173,\n",
       " 196,\n",
       " 159,\n",
       " 196,\n",
       " 82,\n",
       " 196,\n",
       " 129,\n",
       " 196,\n",
       " 89,\n",
       " 196,\n",
       " 113,\n",
       " 196,\n",
       " 124,\n",
       " 196,\n",
       " 117,\n",
       " 196,\n",
       " 73,\n",
       " 196,\n",
       " 170,\n",
       " 196,\n",
       " 165,\n",
       " 196,\n",
       " 139,\n",
       " 196,\n",
       " 105,\n",
       " 196,\n",
       " 90,\n",
       " 196,\n",
       " 123,\n",
       " 196,\n",
       " 131,\n",
       " 196]"
      ]
     },
     "execution_count": 13,
     "metadata": {},
     "output_type": "execute_result"
    }
   ],
   "source": [
    "xmax_list"
   ]
  },
  {
   "cell_type": "code",
   "execution_count": 14,
   "id": "28065550-b247-4c70-a032-4e118eca0887",
   "metadata": {},
   "outputs": [
    {
     "data": {
      "text/plain": [
       "[81,\n",
       " 0,\n",
       " 55,\n",
       " 0,\n",
       " 115,\n",
       " 0,\n",
       " 54,\n",
       " 0,\n",
       " 69,\n",
       " 0,\n",
       " 107,\n",
       " 0,\n",
       " 107,\n",
       " 0,\n",
       " 98,\n",
       " 0,\n",
       " 43,\n",
       " 0,\n",
       " 79,\n",
       " 0,\n",
       " 99,\n",
       " 0,\n",
       " 78,\n",
       " 0,\n",
       " 40,\n",
       " 0,\n",
       " 70,\n",
       " 0,\n",
       " 106,\n",
       " 0,\n",
       " 99,\n",
       " 0,\n",
       " 87,\n",
       " 0,\n",
       " 128,\n",
       " 0,\n",
       " 79,\n",
       " 0,\n",
       " 89,\n",
       " 0,\n",
       " 94,\n",
       " 0,\n",
       " 103,\n",
       " 0,\n",
       " 116,\n",
       " 0,\n",
       " 112,\n",
       " 0,\n",
       " 116,\n",
       " 0]"
      ]
     },
     "execution_count": 14,
     "metadata": {},
     "output_type": "execute_result"
    }
   ],
   "source": [
    "ymin_list"
   ]
  },
  {
   "cell_type": "code",
   "execution_count": 15,
   "id": "f9c94dcf-dfef-4d06-b202-a8c4a917c912",
   "metadata": {},
   "outputs": [
    {
     "data": {
      "text/plain": [
       "[187,\n",
       " 232,\n",
       " 183,\n",
       " 232,\n",
       " 142,\n",
       " 232,\n",
       " 146,\n",
       " 232,\n",
       " 174,\n",
       " 232,\n",
       " 176,\n",
       " 232,\n",
       " 166,\n",
       " 232,\n",
       " 143,\n",
       " 232,\n",
       " 173,\n",
       " 232,\n",
       " 170,\n",
       " 232,\n",
       " 163,\n",
       " 232,\n",
       " 145,\n",
       " 232,\n",
       " 136,\n",
       " 232,\n",
       " 169,\n",
       " 232,\n",
       " 143,\n",
       " 232,\n",
       " 148,\n",
       " 232,\n",
       " 158,\n",
       " 232,\n",
       " 137,\n",
       " 232,\n",
       " 172,\n",
       " 232,\n",
       " 172,\n",
       " 232,\n",
       " 135,\n",
       " 232,\n",
       " 107,\n",
       " 232,\n",
       " 119,\n",
       " 232,\n",
       " 137,\n",
       " 232,\n",
       " 134,\n",
       " 232]"
      ]
     },
     "execution_count": 15,
     "metadata": {},
     "output_type": "execute_result"
    }
   ],
   "source": [
    "ymax_list"
   ]
  },
  {
   "cell_type": "code",
   "execution_count": 16,
   "id": "0911cf23-efba-4377-ae18-cc7471babcd5",
   "metadata": {},
   "outputs": [
    {
     "data": {
      "text/plain": [
       "[48,\n",
       " 0,\n",
       " 17,\n",
       " 0,\n",
       " 78,\n",
       " 0,\n",
       " 9,\n",
       " 0,\n",
       " 58,\n",
       " 0,\n",
       " 45,\n",
       " 0,\n",
       " 55,\n",
       " 0,\n",
       " 25,\n",
       " 0,\n",
       " 76,\n",
       " 0,\n",
       " 29,\n",
       " 0,\n",
       " 63,\n",
       " 0,\n",
       " 69,\n",
       " 0,\n",
       " 58,\n",
       " 0,\n",
       " 69,\n",
       " 0,\n",
       " 68,\n",
       " 0,\n",
       " 60,\n",
       " 0,\n",
       " 28,\n",
       " 0,\n",
       " 58,\n",
       " 0,\n",
       " 49,\n",
       " 0,\n",
       " 15,\n",
       " 0,\n",
       " 41,\n",
       " 0,\n",
       " 38,\n",
       " 0,\n",
       " 49,\n",
       " 0,\n",
       " 80,\n",
       " 0,\n",
       " 58,\n",
       " 0]"
      ]
     },
     "execution_count": 16,
     "metadata": {},
     "output_type": "execute_result"
    }
   ],
   "source": [
    "zmin_list"
   ]
  },
  {
   "cell_type": "code",
   "execution_count": 17,
   "id": "fbc33e57-2503-415e-9599-95a6cf93e2c7",
   "metadata": {},
   "outputs": [
    {
     "data": {
      "text/plain": [
       "[139,\n",
       " 188,\n",
       " 120,\n",
       " 188,\n",
       " 110,\n",
       " 188,\n",
       " 154,\n",
       " 188,\n",
       " 122,\n",
       " 188,\n",
       " 102,\n",
       " 188,\n",
       " 98,\n",
       " 188,\n",
       " 108,\n",
       " 188,\n",
       " 141,\n",
       " 188,\n",
       " 133,\n",
       " 188,\n",
       " 112,\n",
       " 188,\n",
       " 124,\n",
       " 188,\n",
       " 145,\n",
       " 188,\n",
       " 120,\n",
       " 188,\n",
       " 114,\n",
       " 188,\n",
       " 97,\n",
       " 188,\n",
       " 109,\n",
       " 188,\n",
       " 68,\n",
       " 188,\n",
       " 138,\n",
       " 188,\n",
       " 114,\n",
       " 188,\n",
       " 102,\n",
       " 188,\n",
       " 43,\n",
       " 188,\n",
       " 51,\n",
       " 188,\n",
       " 96,\n",
       " 188,\n",
       " 98,\n",
       " 188]"
      ]
     },
     "execution_count": 17,
     "metadata": {},
     "output_type": "execute_result"
    }
   ],
   "source": [
    "zmax_list"
   ]
  },
  {
   "cell_type": "markdown",
   "id": "1b86a817-d485-4049-898b-1086756c8e77",
   "metadata": {},
   "source": [
    "### 2. 중심 복셀 기준으로 단면을 자르고, 뇌에 접하는 육방면체 구하기\n",
    "- 1의 방법으로는 back-ground cleansing이 제대로 안되어있으면 최대최소값이 다르게 나옴"
   ]
  },
  {
   "cell_type": "code",
   "execution_count": null,
   "id": "6f510c90-b3b8-4632-996d-45929137cd40",
   "metadata": {},
   "outputs": [],
   "source": []
  },
  {
   "cell_type": "code",
   "execution_count": null,
   "id": "8f346004-0c2f-4e5f-a4a5-067fa8319e4f",
   "metadata": {},
   "outputs": [],
   "source": []
  },
  {
   "cell_type": "code",
   "execution_count": null,
   "id": "712936bf-89fa-4218-9a49-ea9249897e35",
   "metadata": {},
   "outputs": [],
   "source": []
  },
  {
   "cell_type": "code",
   "execution_count": null,
   "id": "a54b2732-a129-48da-b437-30de5918d8b5",
   "metadata": {},
   "outputs": [],
   "source": []
  },
  {
   "cell_type": "code",
   "execution_count": null,
   "id": "a26235c4-0f4e-4896-9145-475082b3c64f",
   "metadata": {},
   "outputs": [],
   "source": []
  },
  {
   "cell_type": "code",
   "execution_count": null,
   "id": "eba26f2f-a49a-4910-a060-281d1a86707c",
   "metadata": {},
   "outputs": [],
   "source": []
  }
 ],
 "metadata": {
  "kernelspec": {
   "display_name": "miccai",
   "language": "python",
   "name": "miccai"
  },
  "language_info": {
   "codemirror_mode": {
    "name": "ipython",
    "version": 3
   },
   "file_extension": ".py",
   "mimetype": "text/x-python",
   "name": "python",
   "nbconvert_exporter": "python",
   "pygments_lexer": "ipython3",
   "version": "3.8.5"
  }
 },
 "nbformat": 4,
 "nbformat_minor": 5
}
